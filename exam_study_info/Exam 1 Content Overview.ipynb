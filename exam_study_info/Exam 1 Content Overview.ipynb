{
 "cells": [
  {
   "cell_type": "markdown",
   "metadata": {},
   "source": [
    "# Exam 1 - CSC 466 Winter 2020\n",
    "\n",
    "As always, please refer to our schedule page to get a complete list of everything that we've covered. Here is a summary.\n",
    "\n",
    "## Content breakdown (approximate)\n",
    "* 50% inspired from the labs\n",
    "* 30% inspired from in-class discussions, slides, etc\n",
    "* 20% inspired from textbook reading\n",
    "\n",
    "## Book Chapters\n",
    "Chapters 1, 2, 12, 13\n",
    "\n",
    "## Slides\n",
    "* Bayesian (know in detail)"
   ]
  },
  {
   "cell_type": "code",
   "execution_count": null,
   "metadata": {},
   "outputs": [],
   "source": []
  }
 ],
 "metadata": {
  "jupytext": {
   "formats": "ipynb,md"
  },
  "kernelspec": {
   "display_name": "Python 3",
   "language": "python",
   "name": "python3"
  },
  "language_info": {
   "codemirror_mode": {
    "name": "ipython",
    "version": 3
   },
   "file_extension": ".py",
   "mimetype": "text/x-python",
   "name": "python",
   "nbconvert_exporter": "python",
   "pygments_lexer": "ipython3",
   "version": "3.7.3"
  }
 },
 "nbformat": 4,
 "nbformat_minor": 4
}
