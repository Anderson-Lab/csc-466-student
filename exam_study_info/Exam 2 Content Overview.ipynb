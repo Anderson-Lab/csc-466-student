{
 "cells": [
  {
   "cell_type": "markdown",
   "metadata": {},
   "source": [
    "# Exam 2 - CSC 466 Winter 2020\n",
    "\n",
    "As always, please refer to our schedule page to get a complete list of everything that we've covered. Here is a summary.\n",
    "\n",
    "* Bring calculator. Always makes life easier\n",
    "* No notes. Only your brain :) And a pencil/pen.\n",
    "\n",
    "## Topics\n",
    "### Gradient Boosting\n",
    "* You've implemented this in lab from scratch so you should be able to debug/correct or write this one from scratch since it wasn't that long\n",
    "* You should also be able to walk through a couple iterations of gradient descent with sum squared error loss function (i.e., negative gradient is the residual)\n",
    "* There are gradient boosting slides on the schedule since the textbook only covers AdaBoost\n",
    "\n",
    "### Dimensionality Reduction\n",
    "* You should be able to walk through a PCA example for a dataset with 2 variables. That includes calculating covariance matrix, it includes taking a covariance matrix and finding eigen vectors, it includes finding % var explained in each component, it includes projected the original data into this new space\n",
    "* You should be familiar with the other methods in the textbook\n",
    "\n",
    "### Clustering/Unsupervised Learning\n",
    "* We focused on two clustering algorithms (kmeans and hiearchical clustering)\n",
    "* You should be able to complete a kmeans clustering example by hand as well as complete a hiearchical clustering example by hand (i.e., make the dendrogram)\n",
    "* There are slides on the schedule\n",
    "* There is a section in the book on kmeans and clustering in general (don't worry about neural net based implementations in the chapter)\n",
    "* You should also understand the main learning objectives from the clustering lab. Mainly that lab was about coming up with methods and protocol to find the best clustering algorithm. It was about interpretation and not about the implementation of the algorithms.\n",
    "\n",
    "### Collaborative Filtering\n",
    "* We focused on by hand examples and discussion in class. You should be able to do item-item or user-user.\n",
    "* You are responsible for reading the collaborative filtering link on the schedule.\n",
    "* You are responsible for knowing the specific sections of the lab where you had to insert code (i.e., who what you did and why)\n",
    "\n",
    "### Graph Algorithms\n",
    "* You are responsible for the three chapters from the book on the schedule that were also in the activity.\n",
    "* You are responsible for the questions on the activity sheet and more specifically to modifications/alternatives to these questions.\n",
    "* You are responsible for understanding our implementation of page rank such that you could walk through a few iterations with a small graph by hand\n",
    "* You are also responsible for a thorough understanding of the intuition and algorithmic details (not code details).\n"
   ]
  },
  {
   "cell_type": "code",
   "execution_count": null,
   "metadata": {},
   "outputs": [],
   "source": []
  },
  {
   "cell_type": "code",
   "execution_count": null,
   "metadata": {},
   "outputs": [],
   "source": []
  }
 ],
 "metadata": {
  "jupytext": {
   "formats": "ipynb,md"
  },
  "kernelspec": {
   "display_name": "Python 3",
   "language": "python",
   "name": "python3"
  },
  "language_info": {
   "codemirror_mode": {
    "name": "ipython",
    "version": 3
   },
   "file_extension": ".py",
   "mimetype": "text/x-python",
   "name": "python",
   "nbconvert_exporter": "python",
   "pygments_lexer": "ipython3",
   "version": "3.7.3"
  }
 },
 "nbformat": 4,
 "nbformat_minor": 4
}
