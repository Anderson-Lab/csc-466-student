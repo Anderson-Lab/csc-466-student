{
 "cells": [
  {
   "cell_type": "markdown",
   "metadata": {},
   "source": [
    "# Name(s)\n",
    "**PUT YOUR FULL NAME(S) HERE**"
   ]
  },
  {
   "cell_type": "markdown",
   "metadata": {},
   "source": [
    "## Should we grade this notebook? (Answer yes or no)"
   ]
  },
  {
   "cell_type": "markdown",
   "metadata": {},
   "source": [
    "???YES OR NO???"
   ]
  },
  {
   "cell_type": "markdown",
   "metadata": {},
   "source": [
    "**Instructions:** Pair programming assignment. Submit only a single notebook unless you deviate significantly after lab on Thursday. If you submit individually, make sure you indicate who you worked with originally. Make sure to include your first and last names. For those students who push to individual repos but still work in groups, please indicate which notebook should be graded."
   ]
  },
  {
   "cell_type": "markdown",
   "metadata": {},
   "source": [
    "# Applying page rank\n",
    "\n",
    "## Lab Assignment\n",
    "\n",
    "This is a pair programming assignment. I strongly\n",
    "discourage individual work for this (and other team/pair programming) lab(s), even if you think you can do it\n",
    "all by yourself. Also, this is a pair programming assignment, not a ”work in teams of two” assignment. Pair\n",
    "programming requires joint work on all aspects of the project without delegating portions of the work to individual\n",
    "1\n",
    "team members. For this lab, I want all your work — discussion, software development, analysis of the results,\n",
    "report writing — to be products of joint work.\n",
    "Students enrolled in the class can pair with other students enrolled in the class. Students on the waitlist can\n",
    "pair with other students on the waitlists. In the cases of ”odd person out” situations, a team of three people can\n",
    "be formed, but that team must (a) ask and answer one additional question, and (b) work as a pair would, without\n",
    "delegation of any work off-line."
   ]
  },
  {
   "cell_type": "markdown",
   "metadata": {},
   "source": [
    "## At the end of this lab, I should be able to\n",
    "* Explain how page rank can be applied to different types of graph datasets\n",
    "* Explain an experiment that times how long it takes a PageRank implementation to run on datasets of different sizes"
   ]
  },
  {
   "cell_type": "code",
   "execution_count": 1,
   "metadata": {},
   "outputs": [
    {
     "name": "stdout",
     "output_type": "stream",
     "text": [
      "Collecting scikit-learn\n",
      "\u001b[?25l  Downloading https://files.pythonhosted.org/packages/41/b6/126263db075fbcc79107749f906ec1c7639f69d2d017807c6574792e517e/scikit_learn-0.22.2.post1-cp37-cp37m-manylinux1_x86_64.whl (7.1MB)\n",
      "\u001b[K     |████████████████████████████████| 7.1MB 5.4MB/s eta 0:00:01\n",
      "\u001b[?25hRequirement already satisfied, skipping upgrade: numpy>=1.11.0 in /opt/conda/lib/python3.7/site-packages (from scikit-learn) (1.17.2)\n",
      "Requirement already satisfied, skipping upgrade: joblib>=0.11 in /opt/conda/lib/python3.7/site-packages (from scikit-learn) (0.12.5)\n",
      "Requirement already satisfied, skipping upgrade: scipy>=0.17.0 in /opt/conda/lib/python3.7/site-packages (from scikit-learn) (1.3.1)\n",
      "\u001b[31mERROR: auto-sklearn 0.5.2 has requirement scikit-learn<0.20,>=0.19, but you'll have scikit-learn 0.22.2.post1 which is incompatible.\u001b[0m\n",
      "Installing collected packages: scikit-learn\n",
      "  Found existing installation: scikit-learn 0.19.2\n",
      "    Uninstalling scikit-learn-0.19.2:\n",
      "      Successfully uninstalled scikit-learn-0.19.2\n",
      "Successfully installed scikit-learn-0.22.2.post1\n",
      "\u001b[33mWARNING: You are using pip version 19.3.1; however, version 20.0.2 is available.\n",
      "You should consider upgrading via the 'pip install --upgrade pip' command.\u001b[0m\n"
     ]
    }
   ],
   "source": [
    "# We need a better version\n",
    "!pip install -U scikit-learn"
   ]
  },
  {
   "cell_type": "markdown",
   "metadata": {},
   "source": [
    "## Our implementation"
   ]
  },
  {
   "cell_type": "code",
   "execution_count": 1,
   "metadata": {},
   "outputs": [],
   "source": [
    "%matplotlib inline \n",
    "import matplotlib.pyplot as plt\n",
    "plt.rcParams[\"figure.figsize\"] = (10,10)\n",
    "import networkx as nx\n",
    "import pandas as pd\n",
    "\n",
    "def create_graph(N,names=\"abcdefghijklmnopqrstuvwxyz\"):\n",
    "    G = nx.DiGraph()\n",
    "\n",
    "    for i in range(N):\n",
    "        G.add_node(names[i], score=1/N)\n",
    "    return G\n",
    "\n",
    "def one_iteration(G,d=0.85):\n",
    "    counts={} # number of unique links going out of each node\n",
    "    for n in G.nodes():\n",
    "        counts[n] = 0\n",
    "    for u,v in G.edges():\n",
    "        if u not in counts:\n",
    "            counts[u] = 0\n",
    "        counts[u] += 1\n",
    "\n",
    "    counts_series = pd.Series(counts)\n",
    "    sinks = list(counts_series.index[counts_series == 0])\n",
    "\n",
    "    edges = {} # keep track of the links that are coming into a node\n",
    "    for n in G.nodes():\n",
    "        edges[n] = []\n",
    "    for u,v in G.edges():\n",
    "        edges[v].append(u) # reverse the order (edge is from u->v but our data structure is from v->u)\n",
    "\n",
    "    scores=dict((n,d['score']) for n,d in G.nodes(data=True))\n",
    "    attrs=dict((n,{\"score\":d['score']}) for n,d in G.nodes(data=True))\n",
    "\n",
    "    for v in counts.keys():\n",
    "        attrs[v]['score'] = (1-d)/len(G.nodes())\n",
    "        for u in edges[v]:\n",
    "            attrs[v]['score'] += d*scores[u]/counts[u]\n",
    "\n",
    "    for u in sinks:\n",
    "        for n in G.nodes():\n",
    "            attrs[n]['score'] += d*scores[u]/len(G.nodes())\n",
    "    nx.set_node_attributes(G, attrs)\n",
    "\n",
    "def run_page_rank(G,iterations=20,d=0.85):        \n",
    "    for iteration in range(iterations):\n",
    "        one_iteration(G,d=d)\n",
    "    return dict((n,d['score']) for n,d in G.nodes(data=True))\n",
    "\n",
    "def plot(G):\n",
    "    pos = nx.circular_layout(G)  # positions for all nodes\n",
    "\n",
    "    node_size=4500\n",
    "\n",
    "    # labels\n",
    "    labels=dict((n,\"%s:%.2f\"%(n,d['score'])) for n,d in G.nodes(data=True))\n",
    "    #nx.draw_networkx_labels(G, pos, labels=labels, font_size=20, font_family='sans-serif')\n",
    "\n",
    "    nx.draw_networkx_edges(G, pos=pos, with_labels=True, node_size=node_size, alpha=0.3, arrows=True,\n",
    "            arrowsize=20, width=2)\n",
    "    # draw white circles over the lines\n",
    "    nx.draw_networkx_nodes(G, pos=pos, with_labels=True, node_size=node_size, alpha=1, arrows=True,\n",
    "            arrowsize=20, width=2, node_color='w')\n",
    "    # draw the nodes as desired\n",
    "    nx.draw_networkx_nodes(G, pos=pos, node_size=node_size, alpha=.3, arrows=True,\n",
    "            arrowsize=20, width=2)\n",
    "    nx.draw_networkx_labels(G, labels=labels,pos=pos)\n",
    "\n",
    "    plt.axis('off')\n",
    "    plt.show()"
   ]
  },
  {
   "cell_type": "code",
   "execution_count": 4,
   "metadata": {},
   "outputs": [
    {
     "data": {
      "image/png": "[encoded data removed]",
      "text/plain": [
       "<Figure size 432x288 with 1 Axes>"
      ]
     },
     "metadata": {},
     "output_type": "display_data"
    }
   ],
   "source": [
    "G = create_graph(4)\n",
    "\n",
    "G.add_edge('a', 'b')\n",
    "G.add_edge('b', 'a')\n",
    "G.add_edge('a', 'c')\n",
    "G.add_edge('c', 'a')\n",
    "G.add_edge('a', 'd')\n",
    "G.add_edge('d', 'a')\n",
    "\n",
    "plot(G)"
   ]
  },
  {
   "cell_type": "code",
   "execution_count": 5,
   "metadata": {},
   "outputs": [
    {
     "data": {
      "text/plain": [
       "{'a': 0.47082551312923326,\n",
       " 'b': 0.1763914956235889,\n",
       " 'c': 0.1763914956235889,\n",
       " 'd': 0.1763914956235889}"
      ]
     },
     "metadata": {},
     "output_type": "display_data"
    },
    {
     "data": {
      "text/plain": [
       "a    0.470826\n",
       "d    0.176391\n",
       "c    0.176391\n",
       "b    0.176391\n",
       "dtype: float64"
      ]
     },
     "execution_count": 5,
     "metadata": {},
     "output_type": "execute_result"
    }
   ],
   "source": [
    "ranks = run_page_rank(G)\n",
    "display(ranks)\n",
    "ranks = pd.Series(ranks).sort_values(ascending=False)\n",
    "ranks"
   ]
  },
  {
   "cell_type": "code",
   "execution_count": 6,
   "metadata": {},
   "outputs": [
    {
     "data": {
      "text/plain": [
       "1.0"
      ]
     },
     "execution_count": 6,
     "metadata": {},
     "output_type": "execute_result"
    }
   ],
   "source": [
    "sum(ranks)"
   ]
  },
  {
   "cell_type": "code",
   "execution_count": 7,
   "metadata": {},
   "outputs": [
    {
     "data": {
      "image/png": "[encoded data removed]",
      "text/plain": [
       "<Figure size 432x288 with 1 Axes>"
      ]
     },
     "metadata": {},
     "output_type": "display_data"
    }
   ],
   "source": [
    "plot(G)"
   ]
  },
  {
   "cell_type": "markdown",
   "metadata": {},
   "source": [
    "### What if you want to time it?"
   ]
  },
  {
   "cell_type": "code",
   "execution_count": 9,
   "metadata": {},
   "outputs": [
    {
     "name": "stdout",
     "output_type": "stream",
     "text": [
      "12.2 ms ± 22.7 µs per loop (mean ± std. dev. of 7 runs, 100 loops each)\n"
     ]
    }
   ],
   "source": [
    "%%timeit\n",
    "G = create_graph(4)\n",
    "\n",
    "G.add_edge('a', 'b')\n",
    "G.add_edge('b', 'a')\n",
    "G.add_edge('a', 'c')\n",
    "G.add_edge('c', 'a')\n",
    "G.add_edge('a', 'd')\n",
    "G.add_edge('d', 'a')\n",
    "\n",
    "ranks = run_page_rank(G)"
   ]
  },
  {
   "cell_type": "markdown",
   "metadata": {},
   "source": [
    "## Exercise 1 (Worth 8 points)\n",
    "Apply page rank to two graphs that you create with 6 nodes each. \n",
    "* Graph 1: Approximately every page should be of relatively equal importance\n",
    "* Graph 2: Contain some structure (or important nodes). \n",
    "Write up a brief discussion about what page rank is showing about your graphs. I want to see graphs and discussions that reference your graphs. "
   ]
  },
  {
   "cell_type": "code",
   "execution_count": 31,
   "metadata": {},
   "outputs": [],
   "source": [
    "## CODE HERE"
   ]
  },
  {
   "cell_type": "markdown",
   "metadata": {},
   "source": [
    "## Exercise 2 (Worth 3 points)\n",
    "Now let's load up a real dataset that contains information about web pages. This dataset is a webcrawl using links that go through epa.gov (warning... it's a bit old). Run and study the code below. Then answer the questions at the end."
   ]
  },
  {
   "cell_type": "code",
   "execution_count": 10,
   "metadata": {},
   "outputs": [
    {
     "name": "stdout",
     "output_type": "stream",
     "text": [
      "n 0 http://earthvision.svsu.edu/\n",
      "n 1 http://laedu.lalc.k12.ca.us/\n",
      "n 2 http://pipes.ehsg.saic.com/\n",
      "n 3 http://epaserver.ciesin.org/\n",
      "n 4 http://www.nnic.noaa.gov/\n",
      "n 5 http://www.stat.washington.edu/\n",
      "n 6 http://www.ethanolrfa.org/\n",
      "n 7 http://www.auburn.edu/~coogoph/employ.html\n",
      "n 8 http://pen.ci.santa-monica.ca.us/\n",
      "n 9 http://www.deq.state.or.us/\n"
     ]
    }
   ],
   "source": [
    "!head ~/csc-466-student/data/epa-webcrawl/gr0.epa.txt"
   ]
  },
  {
   "cell_type": "code",
   "execution_count": 11,
   "metadata": {},
   "outputs": [
    {
     "name": "stdout",
     "output_type": "stream",
     "text": [
      "e 4771 132\n",
      "e 4771 3428\n",
      "e 4771 3426\n",
      "e 4771 3427\n",
      "e 4771 3437\n",
      "e 4771 3250\n",
      "e 4771 4764\n",
      "e 4771 499\n",
      "e 4771 3436\n",
      "e 4771 348\n"
     ]
    }
   ],
   "source": [
    "!tail ~/csc-466-student/data/epa-webcrawl/gr0.epa.txt"
   ]
  },
  {
   "cell_type": "code",
   "execution_count": 12,
   "metadata": {},
   "outputs": [],
   "source": [
    "nodes = {}\n",
    "edges = {}\n",
    "for line in open(\"/home/jovyan/csc-466-student/data/epa-webcrawl/gr0.epa.txt\").readlines():\n",
    "    fields = line.strip().split(\" \")\n",
    "    if line[0] == \"n\":\n",
    "        nodes[fields[1]] = fields[2]\n",
    "    elif line[0] == \"e\":\n",
    "        if fields[1] not in edges:\n",
    "            edges[fields[1]] = []\n",
    "        edges[fields[1]].append(fields[2])"
   ]
  },
  {
   "cell_type": "code",
   "execution_count": 13,
   "metadata": {},
   "outputs": [
    {
     "data": {
      "text/plain": [
       "4772"
      ]
     },
     "execution_count": 13,
     "metadata": {},
     "output_type": "execute_result"
    }
   ],
   "source": [
    "len(list(nodes.keys()))"
   ]
  },
  {
   "cell_type": "code",
   "execution_count": 31,
   "metadata": {},
   "outputs": [
    {
     "data": {
      "text/plain": [
       "0                            http://earthvision.svsu.edu/\n",
       "1                            http://laedu.lalc.k12.ca.us/\n",
       "2                             http://pipes.ehsg.saic.com/\n",
       "3                            http://epaserver.ciesin.org/\n",
       "4                               http://www.nnic.noaa.gov/\n",
       "                              ...                        \n",
       "4767                       http://www.shopcalifornia.com/\n",
       "4768     http://www.nuwc.navy.mil/hq/webmaster/okmem.html\n",
       "4769                    http://www.kiosksanfrancisco.com/\n",
       "4770    http://fwgcom.wes.army.mil/fwg/environ/WebSite...\n",
       "4771     http://www.nuwc.navy.mil/hq/library/navlink.html\n",
       "Length: 4772, dtype: object"
      ]
     },
     "execution_count": 31,
     "metadata": {},
     "output_type": "execute_result"
    }
   ],
   "source": [
    "pd.Series(nodes)"
   ]
  },
  {
   "cell_type": "code",
   "execution_count": 32,
   "metadata": {},
   "outputs": [
    {
     "data": {
      "text/plain": [
       "0       [216, 217, 218, 219, 220, 221, 222, 223, 224, ...\n",
       "1       [251, 252, 253, 254, 255, 256, 257, 258, 259, ...\n",
       "2                                                   [290]\n",
       "3                                         [330, 221, 331]\n",
       "4       [380, 381, 382, 383, 384, 385, 386, 387, 388, ...\n",
       "                              ...                        \n",
       "4765    [3427, 499, 3428, 3429, 3430, 3431, 3432, 132,...\n",
       "4766                                               [3426]\n",
       "4767                                               [3426]\n",
       "4768                        [4760, 4107, 2231, 948, 1319]\n",
       "4771    [3429, 3430, 3431, 3434, 1238, 3432, 132, 3428...\n",
       "Length: 1423, dtype: object"
      ]
     },
     "execution_count": 32,
     "metadata": {},
     "output_type": "execute_result"
    }
   ],
   "source": [
    "pd.Series(edges)"
   ]
  },
  {
   "cell_type": "code",
   "execution_count": 16,
   "metadata": {},
   "outputs": [],
   "source": [
    "node_names = list(nodes.keys())\n",
    "G = create_graph(len(node_names),names=node_names)\n",
    "\n",
    "for u in edges.keys():\n",
    "    for v in edges[u]:\n",
    "        G.add_edge(u,v)"
   ]
  },
  {
   "cell_type": "markdown",
   "metadata": {},
   "source": [
    "### Example to show you how long it took me to run it"
   ]
  },
  {
   "cell_type": "code",
   "execution_count": 17,
   "metadata": {},
   "outputs": [
    {
     "name": "stdout",
     "output_type": "stream",
     "text": [
      "5min 32s ± 0 ns per loop (mean ± std. dev. of 1 run, 1 loop each)\n"
     ]
    }
   ],
   "source": [
    "%%timeit -n 1 -r 1\n",
    "run_page_rank(G)"
   ]
  },
  {
   "cell_type": "markdown",
   "metadata": {},
   "source": [
    "### Now run it for real and get the ranks"
   ]
  },
  {
   "cell_type": "code",
   "execution_count": 21,
   "metadata": {},
   "outputs": [],
   "source": [
    "ranks = run_page_rank(G)"
   ]
  },
  {
   "cell_type": "code",
   "execution_count": 22,
   "metadata": {},
   "outputs": [],
   "source": [
    "ranks = pd.Series(ranks).sort_values(ascending=False)"
   ]
  },
  {
   "cell_type": "code",
   "execution_count": 23,
   "metadata": {},
   "outputs": [
    {
     "data": {
      "text/plain": [
       "1247    0.019097\n",
       "2838    0.018909\n",
       "967     0.006302\n",
       "708     0.005561\n",
       "287     0.005124\n",
       "          ...   \n",
       "1437    0.000145\n",
       "1438    0.000145\n",
       "1440    0.000145\n",
       "1442    0.000145\n",
       "0       0.000145\n",
       "Length: 4772, dtype: float64"
      ]
     },
     "execution_count": 23,
     "metadata": {},
     "output_type": "execute_result"
    }
   ],
   "source": [
    "ranks"
   ]
  },
  {
   "cell_type": "code",
   "execution_count": 28,
   "metadata": {},
   "outputs": [
    {
     "data": {
      "text/plain": [
       "<matplotlib.axes._subplots.AxesSubplot at 0x7ff84e0e10b8>"
      ]
     },
     "execution_count": 28,
     "metadata": {},
     "output_type": "execute_result"
    },
    {
     "data": {
      "image/png": "[encoded data removed]",
      "text/plain": [
       "<Figure size 432x288 with 1 Axes>"
      ]
     },
     "metadata": {
      "needs_background": "light"
     },
     "output_type": "display_data"
    }
   ],
   "source": [
    "ranks.iloc[:20].plot.bar()"
   ]
  },
  {
   "cell_type": "code",
   "execution_count": 42,
   "metadata": {},
   "outputs": [],
   "source": [
    "df = pd.Series(nodes).to_frame()\n",
    "df.columns = [\"URL\"]\n",
    "ranks.name = \"PageRank\"\n",
    "df = df.join(ranks)"
   ]
  },
  {
   "cell_type": "code",
   "execution_count": 43,
   "metadata": {},
   "outputs": [
    {
     "data": {
      "text/html": [
       "<div>\n",
       "<style scoped>\n",
       "    .dataframe tbody tr th:only-of-type {\n",
       "        vertical-align: middle;\n",
       "    }\n",
       "\n",
       "    .dataframe tbody tr th {\n",
       "        vertical-align: top;\n",
       "    }\n",
       "\n",
       "    .dataframe thead th {\n",
       "        text-align: right;\n",
       "    }\n",
       "</style>\n",
       "<table border=\"1\" class=\"dataframe\">\n",
       "  <thead>\n",
       "    <tr style=\"text-align: right;\">\n",
       "      <th></th>\n",
       "      <th>URL</th>\n",
       "      <th>PageRank</th>\n",
       "    </tr>\n",
       "  </thead>\n",
       "  <tbody>\n",
       "    <tr>\n",
       "      <td>0</td>\n",
       "      <td>http://earthvision.svsu.edu/</td>\n",
       "      <td>0.000145</td>\n",
       "    </tr>\n",
       "    <tr>\n",
       "      <td>1</td>\n",
       "      <td>http://laedu.lalc.k12.ca.us/</td>\n",
       "      <td>0.000145</td>\n",
       "    </tr>\n",
       "    <tr>\n",
       "      <td>2</td>\n",
       "      <td>http://pipes.ehsg.saic.com/</td>\n",
       "      <td>0.000145</td>\n",
       "    </tr>\n",
       "    <tr>\n",
       "      <td>3</td>\n",
       "      <td>http://epaserver.ciesin.org/</td>\n",
       "      <td>0.000639</td>\n",
       "    </tr>\n",
       "    <tr>\n",
       "      <td>4</td>\n",
       "      <td>http://www.nnic.noaa.gov/</td>\n",
       "      <td>0.000145</td>\n",
       "    </tr>\n",
       "    <tr>\n",
       "      <td>...</td>\n",
       "      <td>...</td>\n",
       "      <td>...</td>\n",
       "    </tr>\n",
       "    <tr>\n",
       "      <td>4767</td>\n",
       "      <td>http://www.shopcalifornia.com/</td>\n",
       "      <td>0.000145</td>\n",
       "    </tr>\n",
       "    <tr>\n",
       "      <td>4768</td>\n",
       "      <td>http://www.nuwc.navy.mil/hq/webmaster/okmem.html</td>\n",
       "      <td>0.000145</td>\n",
       "    </tr>\n",
       "    <tr>\n",
       "      <td>4769</td>\n",
       "      <td>http://www.kiosksanfrancisco.com/</td>\n",
       "      <td>0.000145</td>\n",
       "    </tr>\n",
       "    <tr>\n",
       "      <td>4770</td>\n",
       "      <td>http://fwgcom.wes.army.mil/fwg/environ/WebSite...</td>\n",
       "      <td>0.000145</td>\n",
       "    </tr>\n",
       "    <tr>\n",
       "      <td>4771</td>\n",
       "      <td>http://www.nuwc.navy.mil/hq/library/navlink.html</td>\n",
       "      <td>0.000145</td>\n",
       "    </tr>\n",
       "  </tbody>\n",
       "</table>\n",
       "<p>4772 rows × 2 columns</p>\n",
       "</div>"
      ],
      "text/plain": [
       "                                                    URL  PageRank\n",
       "0                          http://earthvision.svsu.edu/  0.000145\n",
       "1                          http://laedu.lalc.k12.ca.us/  0.000145\n",
       "2                           http://pipes.ehsg.saic.com/  0.000145\n",
       "3                          http://epaserver.ciesin.org/  0.000639\n",
       "4                             http://www.nnic.noaa.gov/  0.000145\n",
       "...                                                 ...       ...\n",
       "4767                     http://www.shopcalifornia.com/  0.000145\n",
       "4768   http://www.nuwc.navy.mil/hq/webmaster/okmem.html  0.000145\n",
       "4769                  http://www.kiosksanfrancisco.com/  0.000145\n",
       "4770  http://fwgcom.wes.army.mil/fwg/environ/WebSite...  0.000145\n",
       "4771   http://www.nuwc.navy.mil/hq/library/navlink.html  0.000145\n",
       "\n",
       "[4772 rows x 2 columns]"
      ]
     },
     "execution_count": 43,
     "metadata": {},
     "output_type": "execute_result"
    }
   ],
   "source": [
    "df"
   ]
  },
  {
   "cell_type": "code",
   "execution_count": 45,
   "metadata": {},
   "outputs": [
    {
     "data": {
      "text/html": [
       "<div>\n",
       "<style scoped>\n",
       "    .dataframe tbody tr th:only-of-type {\n",
       "        vertical-align: middle;\n",
       "    }\n",
       "\n",
       "    .dataframe tbody tr th {\n",
       "        vertical-align: top;\n",
       "    }\n",
       "\n",
       "    .dataframe thead th {\n",
       "        text-align: right;\n",
       "    }\n",
       "</style>\n",
       "<table border=\"1\" class=\"dataframe\">\n",
       "  <thead>\n",
       "    <tr style=\"text-align: right;\">\n",
       "      <th></th>\n",
       "      <th>URL</th>\n",
       "      <th>PageRank</th>\n",
       "    </tr>\n",
       "  </thead>\n",
       "  <tbody>\n",
       "    <tr>\n",
       "      <td>1247</td>\n",
       "      <td>http://www.nbs.gov/</td>\n",
       "      <td>0.019097</td>\n",
       "    </tr>\n",
       "    <tr>\n",
       "      <td>2838</td>\n",
       "      <td>http://www.usgs.gov/</td>\n",
       "      <td>0.018909</td>\n",
       "    </tr>\n",
       "    <tr>\n",
       "      <td>967</td>\n",
       "      <td>http://home.netscape.com/comprod/mirror/index....</td>\n",
       "      <td>0.006302</td>\n",
       "    </tr>\n",
       "    <tr>\n",
       "      <td>708</td>\n",
       "      <td>http://home.netscape.com/</td>\n",
       "      <td>0.005561</td>\n",
       "    </tr>\n",
       "    <tr>\n",
       "      <td>287</td>\n",
       "      <td>http://www.whitehouse.gov</td>\n",
       "      <td>0.005124</td>\n",
       "    </tr>\n",
       "    <tr>\n",
       "      <td>...</td>\n",
       "      <td>...</td>\n",
       "      <td>...</td>\n",
       "    </tr>\n",
       "    <tr>\n",
       "      <td>1514</td>\n",
       "      <td>http://www.the-spa.com/dpw/srwtf20.htm</td>\n",
       "      <td>0.000145</td>\n",
       "    </tr>\n",
       "    <tr>\n",
       "      <td>1513</td>\n",
       "      <td>http://ren.glaci.com/info/sites/othersites.html</td>\n",
       "      <td>0.000145</td>\n",
       "    </tr>\n",
       "    <tr>\n",
       "      <td>1512</td>\n",
       "      <td>http://www.envirite.com/links.htm</td>\n",
       "      <td>0.000145</td>\n",
       "    </tr>\n",
       "    <tr>\n",
       "      <td>1511</td>\n",
       "      <td>http://www-erd.llnl.gov/orad/ppg_pages/other_r...</td>\n",
       "      <td>0.000145</td>\n",
       "    </tr>\n",
       "    <tr>\n",
       "      <td>4771</td>\n",
       "      <td>http://www.nuwc.navy.mil/hq/library/navlink.html</td>\n",
       "      <td>0.000145</td>\n",
       "    </tr>\n",
       "  </tbody>\n",
       "</table>\n",
       "<p>4772 rows × 2 columns</p>\n",
       "</div>"
      ],
      "text/plain": [
       "                                                    URL  PageRank\n",
       "1247                                http://www.nbs.gov/  0.019097\n",
       "2838                               http://www.usgs.gov/  0.018909\n",
       "967   http://home.netscape.com/comprod/mirror/index....  0.006302\n",
       "708                           http://home.netscape.com/  0.005561\n",
       "287                           http://www.whitehouse.gov  0.005124\n",
       "...                                                 ...       ...\n",
       "1514             http://www.the-spa.com/dpw/srwtf20.htm  0.000145\n",
       "1513    http://ren.glaci.com/info/sites/othersites.html  0.000145\n",
       "1512                  http://www.envirite.com/links.htm  0.000145\n",
       "1511  http://www-erd.llnl.gov/orad/ppg_pages/other_r...  0.000145\n",
       "4771   http://www.nuwc.navy.mil/hq/library/navlink.html  0.000145\n",
       "\n",
       "[4772 rows x 2 columns]"
      ]
     },
     "execution_count": 45,
     "metadata": {},
     "output_type": "execute_result"
    }
   ],
   "source": [
    "df.sort_values(by=\"PageRank\",ascending=False)"
   ]
  },
  {
   "cell_type": "code",
   "execution_count": 46,
   "metadata": {},
   "outputs": [
    {
     "data": {
      "text/plain": [
       "<matplotlib.axes._subplots.AxesSubplot at 0x7ff84bd40828>"
      ]
     },
     "execution_count": 46,
     "metadata": {},
     "output_type": "execute_result"
    },
    {
     "data": {
      "image/png": "[encoded data removed]",
      "text/plain": [
       "<Figure size 432x288 with 1 Axes>"
      ]
     },
     "metadata": {
      "needs_background": "light"
     },
     "output_type": "display_data"
    }
   ],
   "source": [
    "df.sort_values(by=\"PageRank\",ascending=False).set_index(\"URL\").iloc[:20].plot.bar()"
   ]
  },
  {
   "cell_type": "markdown",
   "metadata": {},
   "source": [
    "**Questions**\n",
    "\n",
    "1. Do you think we converged? How would you show me you had either converged or not converged?\n",
    "2. Run your experiment to see if we converged.\n",
    "2. Assuming we've converged, what does the bar chart above tell you about the webpages? "
   ]
  },
  {
   "cell_type": "markdown",
   "metadata": {},
   "source": [
   ]
  },
  {
   "cell_type": "code",
   "execution_count": null,
   "metadata": {},
   "outputs": [],
   "source": []
  }
 ],
 "metadata": {
  "jupytext": {
   "formats": "ipynb,md"
  },
  "kernelspec": {
   "display_name": "Python 3",
   "language": "python",
   "name": "python3"
  },
  "language_info": {
   "codemirror_mode": {
    "name": "ipython",
    "version": 3
   },
   "file_extension": ".py",
   "mimetype": "text/x-python",
   "name": "python",
   "nbconvert_exporter": "python",
   "pygments_lexer": "ipython3",
   "version": "3.7.3"
  }
 },
 "nbformat": 4,
 "nbformat_minor": 4
}
