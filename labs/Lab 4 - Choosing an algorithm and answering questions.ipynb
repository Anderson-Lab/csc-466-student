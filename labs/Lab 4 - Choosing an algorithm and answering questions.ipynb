{
 "cells": [
  {
   "cell_type": "markdown",
   "metadata": {},
   "source": [
    "# Name(s)\n",
    "**PUT YOUR FULL NAME(S) HERE**"
   ]
  },
  {
   "cell_type": "markdown",
   "metadata": {},
   "source": [
    "## Should we grade this notebook? (Answer yes or no)"
   ]
  },
  {
   "cell_type": "markdown",
   "metadata": {},
   "source": [
    "???YES OR NO???"
   ]
  },
  {
   "cell_type": "markdown",
   "metadata": {},
   "source": [
    "**Instructions:** Pair programming assignment. Submit only a single notebook unless you deviate significantly after lab on Thursday. If you submit individually, make sure you indicate who you worked with originally. Make sure to include your first and last names. For those students who push to individual repos but still work in groups, please indicate which notebook should be graded."
   ]
  },
  {
   "cell_type": "markdown",
   "metadata": {},
   "source": [
    "# Ensemble Learning and Perceptron\n",
    "\n",
    "## Lab Assignment\n",
    "\n",
    "This is a pair programming assignment. I strongly\n",
    "discourage individual work for this (and other team/pair programming) lab(s), even if you think you can do it\n",
    "all by yourself. Also, this is a pair programming assignment, not a ”work in teams of two” assignment. Pair\n",
    "programming requires joint work on all aspects of the project without delegating portions of the work to individual\n",
    "1\n",
    "team members. For this lab, I want all your work — discussion, software development, analysis of the results,\n",
    "report writing — to be products of joint work.\n",
    "Students enrolled in the class can pair with other students enrolled in the class. Students on the waitlist can\n",
    "pair with other students on the waitlists. In the cases of ”odd person out” situations, a team of three people can\n",
    "be formed, but that team must (a) ask and answer one additional question, and (b) work as a pair would, without\n",
    "delegation of any work off-line."
   ]
  },
  {
   "cell_type": "markdown",
   "metadata": {},
   "source": [
    "## At the end of this lab, I should be able to\n",
    "* Formulate your own questions and understand how you can go about getting answers\n",
    "* Understand how to select an algorithm for your task\n",
    "* Implement ensemble methods gradient boosting and random forest"
   ]
  },
  {
   "cell_type": "markdown",
   "metadata": {},
   "source": [
    "## Our data\n",
    "We will be using a well known housing dataset from Boston.\n",
    "<pre>\n",
    " Variables in order:\n",
    " CRIM     per capita crime rate by town\n",
    " ZN       proportion of residential land zoned for lots over 25,000 sq.ft.\n",
    " INDUS    proportion of non-retail business acres per town\n",
    " CHAS     Charles River dummy variable (= 1 if tract bounds river; 0 otherwise)\n",
    " NOX      nitric oxides concentration (parts per 10 million)\n",
    " RM       average number of rooms per dwelling\n",
    " AGE      proportion of owner-occupied units built prior to 1940\n",
    " DIS      weighted distances to five Boston employment centres\n",
    " RAD      index of accessibility to radial highways\n",
    " TAX      full-value property-tax rate per $10,000\n",
    " PTRATIO  pupil-teacher ratio by town\n",
    " B        1000(Bk - 0.63)^2 where Bk is the proportion of blacks by town\n",
    " LSTAT    % lower status of the population\n",
    " MEDV     Median value of owner-occupied homes in $1000's\n",
    "</pre>"
   ]
  },
  {
   "cell_type": "code",
   "execution_count": 1,
   "metadata": {},
   "outputs": [
    {
     "data": {
      "text/html": [
       "<div>\n",
       "<style scoped>\n",
       "    .dataframe tbody tr th:only-of-type {\n",
       "        vertical-align: middle;\n",
       "    }\n",
       "\n",
       "    .dataframe tbody tr th {\n",
       "        vertical-align: top;\n",
       "    }\n",
       "\n",
       "    .dataframe thead th {\n",
       "        text-align: right;\n",
       "    }\n",
       "</style>\n",
       "<table border=\"1\" class=\"dataframe\">\n",
       "  <thead>\n",
       "    <tr style=\"text-align: right;\">\n",
       "      <th></th>\n",
       "      <th>CRIM</th>\n",
       "      <th>ZN</th>\n",
       "      <th>INDUS</th>\n",
       "      <th>CHAS</th>\n",
       "      <th>NOX</th>\n",
       "      <th>RM</th>\n",
       "      <th>AGE</th>\n",
       "      <th>DIS</th>\n",
       "      <th>RAD</th>\n",
       "      <th>TAX</th>\n",
       "      <th>PTRATIO</th>\n",
       "      <th>B</th>\n",
       "      <th>LSTAT</th>\n",
       "      <th>MEDV</th>\n",
       "    </tr>\n",
       "  </thead>\n",
       "  <tbody>\n",
       "    <tr>\n",
       "      <td>0</td>\n",
       "      <td>0.00632</td>\n",
       "      <td>18.0</td>\n",
       "      <td>2.31</td>\n",
       "      <td>0</td>\n",
       "      <td>0.538</td>\n",
       "      <td>6.575</td>\n",
       "      <td>65.2</td>\n",
       "      <td>4.0900</td>\n",
       "      <td>1</td>\n",
       "      <td>296.0</td>\n",
       "      <td>15.3</td>\n",
       "      <td>396.90</td>\n",
       "      <td>4.98</td>\n",
       "      <td>24.0</td>\n",
       "    </tr>\n",
       "    <tr>\n",
       "      <td>1</td>\n",
       "      <td>0.02731</td>\n",
       "      <td>0.0</td>\n",
       "      <td>7.07</td>\n",
       "      <td>0</td>\n",
       "      <td>0.469</td>\n",
       "      <td>6.421</td>\n",
       "      <td>78.9</td>\n",
       "      <td>4.9671</td>\n",
       "      <td>2</td>\n",
       "      <td>242.0</td>\n",
       "      <td>17.8</td>\n",
       "      <td>396.90</td>\n",
       "      <td>9.14</td>\n",
       "      <td>21.6</td>\n",
       "    </tr>\n",
       "    <tr>\n",
       "      <td>2</td>\n",
       "      <td>0.02729</td>\n",
       "      <td>0.0</td>\n",
       "      <td>7.07</td>\n",
       "      <td>0</td>\n",
       "      <td>0.469</td>\n",
       "      <td>7.185</td>\n",
       "      <td>61.1</td>\n",
       "      <td>4.9671</td>\n",
       "      <td>2</td>\n",
       "      <td>242.0</td>\n",
       "      <td>17.8</td>\n",
       "      <td>392.83</td>\n",
       "      <td>4.03</td>\n",
       "      <td>34.7</td>\n",
       "    </tr>\n",
       "    <tr>\n",
       "      <td>3</td>\n",
       "      <td>0.03237</td>\n",
       "      <td>0.0</td>\n",
       "      <td>2.18</td>\n",
       "      <td>0</td>\n",
       "      <td>0.458</td>\n",
       "      <td>6.998</td>\n",
       "      <td>45.8</td>\n",
       "      <td>6.0622</td>\n",
       "      <td>3</td>\n",
       "      <td>222.0</td>\n",
       "      <td>18.7</td>\n",
       "      <td>394.63</td>\n",
       "      <td>2.94</td>\n",
       "      <td>33.4</td>\n",
       "    </tr>\n",
       "    <tr>\n",
       "      <td>4</td>\n",
       "      <td>0.06905</td>\n",
       "      <td>0.0</td>\n",
       "      <td>2.18</td>\n",
       "      <td>0</td>\n",
       "      <td>0.458</td>\n",
       "      <td>7.147</td>\n",
       "      <td>54.2</td>\n",
       "      <td>6.0622</td>\n",
       "      <td>3</td>\n",
       "      <td>222.0</td>\n",
       "      <td>18.7</td>\n",
       "      <td>396.90</td>\n",
       "      <td>5.33</td>\n",
       "      <td>36.2</td>\n",
       "    </tr>\n",
       "  </tbody>\n",
       "</table>\n",
       "</div>"
      ],
      "text/plain": [
       "      CRIM    ZN  INDUS  CHAS    NOX     RM   AGE     DIS  RAD    TAX  \\\n",
       "0  0.00632  18.0   2.31     0  0.538  6.575  65.2  4.0900    1  296.0   \n",
       "1  0.02731   0.0   7.07     0  0.469  6.421  78.9  4.9671    2  242.0   \n",
       "2  0.02729   0.0   7.07     0  0.469  7.185  61.1  4.9671    2  242.0   \n",
       "3  0.03237   0.0   2.18     0  0.458  6.998  45.8  6.0622    3  222.0   \n",
       "4  0.06905   0.0   2.18     0  0.458  7.147  54.2  6.0622    3  222.0   \n",
       "\n",
       "   PTRATIO       B  LSTAT  MEDV  \n",
       "0     15.3  396.90   4.98  24.0  \n",
       "1     17.8  396.90   9.14  21.6  \n",
       "2     17.8  392.83   4.03  34.7  \n",
       "3     18.7  394.63   2.94  33.4  \n",
       "4     18.7  396.90   5.33  36.2  "
      ]
     },
     "execution_count": 1,
     "metadata": {},
     "output_type": "execute_result"
    }
   ],
   "source": [
    "import pandas as pd\n",
    "df = pd.read_csv(\"housing/boston_fixed.csv\")\n",
    "df.head()"
   ]
  },
  {
   "cell_type": "markdown",
   "metadata": {},
   "source": [
    "**Exercise 1.** Read the descriptions of the questions above, and come up with three reasonable questions with corresponding methods to test them. The only one that you cannot write, is the one we will do as a class, which I use as an example here:\n",
    "\n",
    "Example questions: \n",
    "* What are factors that are most predictive of the median value of owner-occupied homes? \n",
    "* Is there a small subset of the total number of variables that could be used in predictive model and not sacrifice model accuracy?\n",
    "* Can we say that any of these factors are causing the median home values to go up? \n",
    "\n",
    "Methodology:\n",
    "1. Empirically determine the best modeling method from our known list of ensemble learners and decision trees.\n",
    "2. Using this best model, compute a feature importance score\n",
    "3. Graph the feature importance score and see if this is a dip. Use this as a cutoff if so, if not, then select the best N features and verify model performance does not change significantly.\n",
    "4. NO!!! We cannot say anything about causation with our machine learning models. There are a lot of good discussions out there on why we can't say much about casuation. [See this one for example](https://towardsdatascience.com/causality-in-machine-learning-101-for-dummies-like-me-f7f161e7383e). BUT we can say a bit about correlation and what features are impacting our overall model."
   ]
  },
  {
   "cell_type": "markdown",
   "metadata": {},
   "source": [
    "**YOUR SOLUTION HERE**"
   ]
  },
  {
   "cell_type": "markdown",
   "metadata": {},
   "source": [
    "**For the next few questions, we will lean heavily upon sklearn and the built-in models. We'll implement our own methods later in the lab, but this is better to provide a consistent experience.**"
   ]
  },
  {
   "cell_type": "markdown",
   "metadata": {},
   "source": [
    "**Exercises 2-9**\n",
    "What are the factors that are most predictive of the median value of owner-occupied homes? Use the following methodology:\n",
    "\n",
    "1. Empirically determine the best modeling method from our known list of ensemble learners and decision trees (see code for more details)\n",
    "2. Using this best model, compute a feature importance score and rank the features by this"
   ]
  },
  {
   "cell_type": "markdown",
   "metadata": {},
   "source": [
    "### Code to get you started\n",
    "I included all of the imports I used in this section right here. I encourage you to take a look at their documentation. I also encourage you to try and mess with the parameters yourself and see if you can come up with better combinations. Finally, you can completely break the overall flow of what I've laid out as long as you accomplish the main goals."
   ]
  },
  {
   "cell_type": "code",
   "execution_count": 29,
   "metadata": {},
   "outputs": [],
   "source": [
    "%%capture \n",
    "!pip install scikit-posthocs"
   ]
  },
  {
   "cell_type": "code",
   "execution_count": 52,
   "metadata": {},
   "outputs": [],
   "source": [
    "# this is for plotting\n",
    "%matplotlib inline \n",
    "\n",
    "import copy\n",
    "\n",
    "# our standard imports\n",
    "import numpy as np\n",
    "import pandas as pd\n",
    "\n",
    "# of course we need to be able to split into training and test\n",
    "from sklearn.model_selection import train_test_split\n",
    "\n",
    "# we need a \"loss\" function\n",
    "from sklearn.metrics import mean_squared_error, r2_score\n",
    "\n",
    "# This is where we can get our models\n",
    "from sklearn.tree import DecisionTreeRegressor\n",
    "from sklearn import ensemble\n",
    "from sklearn.ensemble import RandomForestRegressor\n",
    "\n",
    "# This is what I used for comparing my models\n",
    "import scipy.stats as stats\n",
    "import scikit_posthocs as sp\n",
    "\n",
    "X = df.drop(\"MEDV\",axis=1)\n",
    "y = df[\"MEDV\"]\n",
    "\n",
    "# Below are sample arguments, manually modify some of them and see what happens (we'll do this another time with grid search)\n",
    "# Fit regression model\n",
    "params = {'n_estimators': 500, 'max_depth': 2, 'min_samples_split': 2,\n",
    "          'learning_rate': 0.01, 'loss': 'ls'}\n",
    "gb_1 = ensemble.GradientBoostingRegressor(**params)\n",
    "params = {'n_estimators': 500, 'max_depth': 5, 'min_samples_split': 2,\n",
    "          'learning_rate': 0.01, 'loss': 'ls'}\n",
    "gb_2 = ensemble.GradientBoostingRegressor(**params)\n",
    "regr_1 = DecisionTreeRegressor(max_depth=2)\n",
    "regr_2 = DecisionTreeRegressor(max_depth=5)\n",
    "rf_1 = RandomForestRegressor(n_estimators=100)\n",
    "rf_2 = RandomForestRegressor(n_estimators=500)\n",
    "\n",
    "models = [('Gradient Boosting 1',gb_1),('Gradient Boosting 2',gb_2),\n",
    "          ('DTree 1',regr_1),('DTree 2',regr_2),\n",
    "          ('RF 1',rf_1),('RF 2',rf_2)\n",
    "         ]"
   ]
  },
  {
   "cell_type": "markdown",
   "metadata": {},
   "source": [
    "**Exercise 2** Fill in the following code that finds the mean squared error for 30 repeated hold-out cross-validation experiments for each classifier. In other words, fill in my code and produce something similar to my output. It is very important to realize that you will get different numbers since this is stochastic."
   ]
  },
  {
   "cell_type": "code",
   "execution_count": 30,
   "metadata": {},
   "outputs": [],
   "source": [
    "num_iterations = 30\n",
    "predictions = []\n",
    "ytests = []\n",
    "for iteration in range(num_iterations):\n",
    "    Xtrain, Xtest, ytrain, ytest = train_test_split(X,y,test_size=0.10,shuffle=True)\n",
    "    models_train = copy.deepcopy(models)\n",
    "    # YOUR SOLUTION HERE\n",
    "        \n",
    "errors = {}\n",
    "for desc,model in models_train:\n",
    "    errors[desc] = []\n",
    "    for iteration in range(num_iterations):\n",
    "        # YOUR SOLUTION HERE\n",
    "errors = pd.DataFrame(errors)"
   ]
  },
  {
   "cell_type": "code",
   "execution_count": 33,
   "metadata": {},
   "outputs": [
    {
     "data": {
      "text/html": [
       "<div>\n",
       "<style scoped>\n",
       "    .dataframe tbody tr th:only-of-type {\n",
       "        vertical-align: middle;\n",
       "    }\n",
       "\n",
       "    .dataframe tbody tr th {\n",
       "        vertical-align: top;\n",
       "    }\n",
       "\n",
       "    .dataframe thead th {\n",
       "        text-align: right;\n",
       "    }\n",
       "</style>\n",
       "<table border=\"1\" class=\"dataframe\">\n",
       "  <thead>\n",
       "    <tr style=\"text-align: right;\">\n",
       "      <th></th>\n",
       "      <th>Gradient Boosting 1</th>\n",
       "      <th>Gradient Boosting 2</th>\n",
       "      <th>DTree 1</th>\n",
       "      <th>DTree 2</th>\n",
       "      <th>RF 1</th>\n",
       "      <th>RF 2</th>\n",
       "    </tr>\n",
       "  </thead>\n",
       "  <tbody>\n",
       "    <tr>\n",
       "      <td>0</td>\n",
       "      <td>9.539921</td>\n",
       "      <td>6.906843</td>\n",
       "      <td>22.108259</td>\n",
       "      <td>20.163991</td>\n",
       "      <td>12.560732</td>\n",
       "      <td>9.286971</td>\n",
       "    </tr>\n",
       "    <tr>\n",
       "      <td>1</td>\n",
       "      <td>17.460781</td>\n",
       "      <td>17.382044</td>\n",
       "      <td>32.871397</td>\n",
       "      <td>23.408169</td>\n",
       "      <td>17.453864</td>\n",
       "      <td>17.025082</td>\n",
       "    </tr>\n",
       "    <tr>\n",
       "      <td>2</td>\n",
       "      <td>13.346346</td>\n",
       "      <td>7.687953</td>\n",
       "      <td>15.683847</td>\n",
       "      <td>13.615807</td>\n",
       "      <td>7.130643</td>\n",
       "      <td>6.705585</td>\n",
       "    </tr>\n",
       "    <tr>\n",
       "      <td>3</td>\n",
       "      <td>9.168756</td>\n",
       "      <td>4.883167</td>\n",
       "      <td>36.156508</td>\n",
       "      <td>10.932996</td>\n",
       "      <td>5.660529</td>\n",
       "      <td>5.717660</td>\n",
       "    </tr>\n",
       "    <tr>\n",
       "      <td>4</td>\n",
       "      <td>15.510768</td>\n",
       "      <td>7.505495</td>\n",
       "      <td>41.957346</td>\n",
       "      <td>14.025336</td>\n",
       "      <td>9.948209</td>\n",
       "      <td>9.562223</td>\n",
       "    </tr>\n",
       "  </tbody>\n",
       "</table>\n",
       "</div>"
      ],
      "text/plain": [
       "   Gradient Boosting 1  Gradient Boosting 2    DTree 1    DTree 2       RF 1  \\\n",
       "0             9.539921             6.906843  22.108259  20.163991  12.560732   \n",
       "1            17.460781            17.382044  32.871397  23.408169  17.453864   \n",
       "2            13.346346             7.687953  15.683847  13.615807   7.130643   \n",
       "3             9.168756             4.883167  36.156508  10.932996   5.660529   \n",
       "4            15.510768             7.505495  41.957346  14.025336   9.948209   \n",
       "\n",
       "        RF 2  \n",
       "0   9.286971  \n",
       "1  17.025082  \n",
       "2   6.705585  \n",
       "3   5.717660  \n",
       "4   9.562223  "
      ]
     },
     "execution_count": 33,
     "metadata": {},
     "output_type": "execute_result"
    }
   ],
   "source": [
    "errors.head()"
   ]
  },
  {
   "cell_type": "code",
   "execution_count": 31,
   "metadata": {},
   "outputs": [
    {
     "data": {
      "text/html": [
       "<div>\n",
       "<style scoped>\n",
       "    .dataframe tbody tr th:only-of-type {\n",
       "        vertical-align: middle;\n",
       "    }\n",
       "\n",
       "    .dataframe tbody tr th {\n",
       "        vertical-align: top;\n",
       "    }\n",
       "\n",
       "    .dataframe thead th {\n",
       "        text-align: right;\n",
       "    }\n",
       "</style>\n",
       "<table border=\"1\" class=\"dataframe\">\n",
       "  <thead>\n",
       "    <tr style=\"text-align: right;\">\n",
       "      <th></th>\n",
       "      <th>Gradient Boosting 1</th>\n",
       "      <th>Gradient Boosting 2</th>\n",
       "      <th>DTree 1</th>\n",
       "      <th>DTree 2</th>\n",
       "      <th>RF 1</th>\n",
       "      <th>RF 2</th>\n",
       "    </tr>\n",
       "  </thead>\n",
       "  <tbody>\n",
       "    <tr>\n",
       "      <td>count</td>\n",
       "      <td>30.000000</td>\n",
       "      <td>30.000000</td>\n",
       "      <td>30.000000</td>\n",
       "      <td>30.000000</td>\n",
       "      <td>30.000000</td>\n",
       "      <td>30.000000</td>\n",
       "    </tr>\n",
       "    <tr>\n",
       "      <td>mean</td>\n",
       "      <td>11.883399</td>\n",
       "      <td>9.683125</td>\n",
       "      <td>28.917211</td>\n",
       "      <td>20.642717</td>\n",
       "      <td>10.633576</td>\n",
       "      <td>10.517292</td>\n",
       "    </tr>\n",
       "    <tr>\n",
       "      <td>std</td>\n",
       "      <td>4.924642</td>\n",
       "      <td>5.944130</td>\n",
       "      <td>10.997239</td>\n",
       "      <td>10.880040</td>\n",
       "      <td>5.534104</td>\n",
       "      <td>5.556213</td>\n",
       "    </tr>\n",
       "    <tr>\n",
       "      <td>min</td>\n",
       "      <td>4.579167</td>\n",
       "      <td>3.749431</td>\n",
       "      <td>14.227647</td>\n",
       "      <td>7.681839</td>\n",
       "      <td>4.529371</td>\n",
       "      <td>4.220657</td>\n",
       "    </tr>\n",
       "    <tr>\n",
       "      <td>25%</td>\n",
       "      <td>8.627451</td>\n",
       "      <td>5.951857</td>\n",
       "      <td>22.167827</td>\n",
       "      <td>13.632976</td>\n",
       "      <td>6.277539</td>\n",
       "      <td>6.031955</td>\n",
       "    </tr>\n",
       "    <tr>\n",
       "      <td>50%</td>\n",
       "      <td>10.590273</td>\n",
       "      <td>8.607003</td>\n",
       "      <td>26.272067</td>\n",
       "      <td>18.203397</td>\n",
       "      <td>9.907739</td>\n",
       "      <td>9.590604</td>\n",
       "    </tr>\n",
       "    <tr>\n",
       "      <td>75%</td>\n",
       "      <td>14.994481</td>\n",
       "      <td>11.317597</td>\n",
       "      <td>33.300747</td>\n",
       "      <td>25.177372</td>\n",
       "      <td>12.655157</td>\n",
       "      <td>13.549623</td>\n",
       "    </tr>\n",
       "    <tr>\n",
       "      <td>max</td>\n",
       "      <td>23.340855</td>\n",
       "      <td>33.778558</td>\n",
       "      <td>54.051859</td>\n",
       "      <td>53.940791</td>\n",
       "      <td>30.866791</td>\n",
       "      <td>28.893415</td>\n",
       "    </tr>\n",
       "  </tbody>\n",
       "</table>\n",
       "</div>"
      ],
      "text/plain": [
       "       Gradient Boosting 1  Gradient Boosting 2    DTree 1    DTree 2  \\\n",
       "count            30.000000            30.000000  30.000000  30.000000   \n",
       "mean             11.883399             9.683125  28.917211  20.642717   \n",
       "std               4.924642             5.944130  10.997239  10.880040   \n",
       "min               4.579167             3.749431  14.227647   7.681839   \n",
       "25%               8.627451             5.951857  22.167827  13.632976   \n",
       "50%              10.590273             8.607003  26.272067  18.203397   \n",
       "75%              14.994481            11.317597  33.300747  25.177372   \n",
       "max              23.340855            33.778558  54.051859  53.940791   \n",
       "\n",
       "            RF 1       RF 2  \n",
       "count  30.000000  30.000000  \n",
       "mean   10.633576  10.517292  \n",
       "std     5.534104   5.556213  \n",
       "min     4.529371   4.220657  \n",
       "25%     6.277539   6.031955  \n",
       "50%     9.907739   9.590604  \n",
       "75%    12.655157  13.549623  \n",
       "max    30.866791  28.893415  "
      ]
     },
     "execution_count": 31,
     "metadata": {},
     "output_type": "execute_result"
    }
   ],
   "source": [
    "errors.describe()"
   ]
  },
  {
   "cell_type": "markdown",
   "metadata": {},
   "source": [
    "**Exercise 3** Perform a one-way ANOVA to determine if there are any significant differences between methods"
   ]
  },
  {
   "cell_type": "code",
   "execution_count": 44,
   "metadata": {},
   "outputs": [
    {
     "data": {
      "text/plain": [
       "F_onewayResult(statistic=30.14747889664212, pvalue=5.345091071433792e-22)"
      ]
     },
     "execution_count": 44,
     "metadata": {},
     "output_type": "execute_result"
    }
   ],
   "source": [
   ]
  },
  {
   "cell_type": "markdown",
   "metadata": {},
   "source": [
    "**Exercise 4** Perform a post-hoc pairwise test with bonferroni multiple test correction"
   ]
  },
  {
   "cell_type": "code",
   "execution_count": 46,
   "metadata": {},
   "outputs": [
    {
     "data": {
      "text/html": [
       "<div>\n",
       "<style scoped>\n",
       "    .dataframe tbody tr th:only-of-type {\n",
       "        vertical-align: middle;\n",
       "    }\n",
       "\n",
       "    .dataframe tbody tr th {\n",
       "        vertical-align: top;\n",
       "    }\n",
       "\n",
       "    .dataframe thead th {\n",
       "        text-align: right;\n",
       "    }\n",
       "</style>\n",
       "<table border=\"1\" class=\"dataframe\">\n",
       "  <thead>\n",
       "    <tr style=\"text-align: right;\">\n",
       "      <th></th>\n",
       "      <th>Gradient Boosting 1</th>\n",
       "      <th>Gradient Boosting 2</th>\n",
       "      <th>DTree 1</th>\n",
       "      <th>DTree 2</th>\n",
       "      <th>RF 1</th>\n",
       "      <th>RF 2</th>\n",
       "    </tr>\n",
       "  </thead>\n",
       "  <tbody>\n",
       "    <tr>\n",
       "      <td>Gradient Boosting 1</td>\n",
       "      <td>-1.000000e+00</td>\n",
       "      <td>1.000000e+00</td>\n",
       "      <td>2.480826e-09</td>\n",
       "      <td>0.002574</td>\n",
       "      <td>1.000000e+00</td>\n",
       "      <td>1.000000e+00</td>\n",
       "    </tr>\n",
       "    <tr>\n",
       "      <td>Gradient Boosting 2</td>\n",
       "      <td>1.000000e+00</td>\n",
       "      <td>-1.000000e+00</td>\n",
       "      <td>1.772836e-10</td>\n",
       "      <td>0.000149</td>\n",
       "      <td>1.000000e+00</td>\n",
       "      <td>1.000000e+00</td>\n",
       "    </tr>\n",
       "    <tr>\n",
       "      <td>DTree 1</td>\n",
       "      <td>2.480826e-09</td>\n",
       "      <td>1.772836e-10</td>\n",
       "      <td>-1.000000e+00</td>\n",
       "      <td>0.072676</td>\n",
       "      <td>5.472130e-10</td>\n",
       "      <td>4.598960e-10</td>\n",
       "    </tr>\n",
       "    <tr>\n",
       "      <td>DTree 2</td>\n",
       "      <td>2.574422e-03</td>\n",
       "      <td>1.489747e-04</td>\n",
       "      <td>7.267579e-02</td>\n",
       "      <td>-1.000000</td>\n",
       "      <td>5.139194e-04</td>\n",
       "      <td>4.340323e-04</td>\n",
       "    </tr>\n",
       "    <tr>\n",
       "      <td>RF 1</td>\n",
       "      <td>1.000000e+00</td>\n",
       "      <td>1.000000e+00</td>\n",
       "      <td>5.472130e-10</td>\n",
       "      <td>0.000514</td>\n",
       "      <td>-1.000000e+00</td>\n",
       "      <td>1.000000e+00</td>\n",
       "    </tr>\n",
       "    <tr>\n",
       "      <td>RF 2</td>\n",
       "      <td>1.000000e+00</td>\n",
       "      <td>1.000000e+00</td>\n",
       "      <td>4.598960e-10</td>\n",
       "      <td>0.000434</td>\n",
       "      <td>1.000000e+00</td>\n",
       "      <td>-1.000000e+00</td>\n",
       "    </tr>\n",
       "  </tbody>\n",
       "</table>\n",
       "</div>"
      ],
      "text/plain": [
       "                     Gradient Boosting 1  Gradient Boosting 2       DTree 1  \\\n",
       "Gradient Boosting 1        -1.000000e+00         1.000000e+00  2.480826e-09   \n",
       "Gradient Boosting 2         1.000000e+00        -1.000000e+00  1.772836e-10   \n",
       "DTree 1                     2.480826e-09         1.772836e-10 -1.000000e+00   \n",
       "DTree 2                     2.574422e-03         1.489747e-04  7.267579e-02   \n",
       "RF 1                        1.000000e+00         1.000000e+00  5.472130e-10   \n",
       "RF 2                        1.000000e+00         1.000000e+00  4.598960e-10   \n",
       "\n",
       "                      DTree 2          RF 1          RF 2  \n",
       "Gradient Boosting 1  0.002574  1.000000e+00  1.000000e+00  \n",
       "Gradient Boosting 2  0.000149  1.000000e+00  1.000000e+00  \n",
       "DTree 1              0.072676  5.472130e-10  4.598960e-10  \n",
       "DTree 2             -1.000000  5.139194e-04  4.340323e-04  \n",
       "RF 1                 0.000514 -1.000000e+00  1.000000e+00  \n",
       "RF 2                 0.000434  1.000000e+00 -1.000000e+00  "
      ]
     },
     "execution_count": 46,
     "metadata": {},
     "output_type": "execute_result"
    }
   ],
   "source": [
   ]
  },
  {
   "cell_type": "markdown",
   "metadata": {},
   "source": [
    "**Exercise 5** Which method(s) perform the best? Consider which methods you can actually say with certainty perform better than the rest."
   ]
  },
  {
   "cell_type": "markdown",
   "metadata": {},
   "source": [
   ]
  },
  {
   "cell_type": "markdown",
   "metadata": {},
   "source": [
    "**Exercise 6** Spoiler... There should be more a few models that we are unable to distinguish using 30 trials. Rerun your above analysis, but this time repeat it with 200 trials instead of 30. Is there now a clear winner? This can definitely take a while..."
   ]
  },
  {
   "cell_type": "code",
   "execution_count": 47,
   "metadata": {},
   "outputs": [],
   "source": [
    "num_iterations = 200\n",
    "predictions = []\n",
    "ytests = []\n",
    "for iteration in range(num_iterations):\n",
    "    Xtrain, Xtest, ytrain, ytest = train_test_split(X,y,test_size=0.10,shuffle=True)\n",
    "    models_train = copy.deepcopy(models)\n",
    "    # YOUR SOLUTION HERE\n",
    "        \n",
    "errors = {}\n",
    "for desc,model in models_train:\n",
    "    errors[desc] = []\n",
    "    for iteration in range(num_iterations):\n",
    "        # YOUR SOLUTION HERE\n",
    "errors = pd.DataFrame(errors)"
   ]
  },
  {
   "cell_type": "code",
   "execution_count": 50,
   "metadata": {},
   "outputs": [
    {
     "data": {
      "text/html": [
       "<div>\n",
       "<style scoped>\n",
       "    .dataframe tbody tr th:only-of-type {\n",
       "        vertical-align: middle;\n",
       "    }\n",
       "\n",
       "    .dataframe tbody tr th {\n",
       "        vertical-align: top;\n",
       "    }\n",
       "\n",
       "    .dataframe thead th {\n",
       "        text-align: right;\n",
       "    }\n",
       "</style>\n",
       "<table border=\"1\" class=\"dataframe\">\n",
       "  <thead>\n",
       "    <tr style=\"text-align: right;\">\n",
       "      <th></th>\n",
       "      <th>Gradient Boosting 1</th>\n",
       "      <th>Gradient Boosting 2</th>\n",
       "      <th>DTree 1</th>\n",
       "      <th>DTree 2</th>\n",
       "      <th>RF 1</th>\n",
       "      <th>RF 2</th>\n",
       "    </tr>\n",
       "  </thead>\n",
       "  <tbody>\n",
       "    <tr>\n",
       "      <td>Gradient Boosting 1</td>\n",
       "      <td>-1.000000e+00</td>\n",
       "      <td>1.621325e-12</td>\n",
       "      <td>2.585626e-66</td>\n",
       "      <td>1.283942e-11</td>\n",
       "      <td>4.071984e-06</td>\n",
       "      <td>6.911974e-07</td>\n",
       "    </tr>\n",
       "    <tr>\n",
       "      <td>Gradient Boosting 2</td>\n",
       "      <td>1.621325e-12</td>\n",
       "      <td>-1.000000e+00</td>\n",
       "      <td>2.784387e-90</td>\n",
       "      <td>1.507581e-28</td>\n",
       "      <td>2.014063e-01</td>\n",
       "      <td>4.353873e-01</td>\n",
       "    </tr>\n",
       "    <tr>\n",
       "      <td>DTree 1</td>\n",
       "      <td>2.585626e-66</td>\n",
       "      <td>2.784387e-90</td>\n",
       "      <td>-1.000000e+00</td>\n",
       "      <td>1.579233e-21</td>\n",
       "      <td>6.475009e-83</td>\n",
       "      <td>3.935068e-84</td>\n",
       "    </tr>\n",
       "    <tr>\n",
       "      <td>DTree 2</td>\n",
       "      <td>1.283942e-11</td>\n",
       "      <td>1.507581e-28</td>\n",
       "      <td>1.579233e-21</td>\n",
       "      <td>-1.000000e+00</td>\n",
       "      <td>9.256417e-23</td>\n",
       "      <td>1.456094e-23</td>\n",
       "    </tr>\n",
       "    <tr>\n",
       "      <td>RF 1</td>\n",
       "      <td>4.071984e-06</td>\n",
       "      <td>2.014063e-01</td>\n",
       "      <td>6.475009e-83</td>\n",
       "      <td>9.256417e-23</td>\n",
       "      <td>-1.000000e+00</td>\n",
       "      <td>1.000000e+00</td>\n",
       "    </tr>\n",
       "    <tr>\n",
       "      <td>RF 2</td>\n",
       "      <td>6.911974e-07</td>\n",
       "      <td>4.353873e-01</td>\n",
       "      <td>3.935068e-84</td>\n",
       "      <td>1.456094e-23</td>\n",
       "      <td>1.000000e+00</td>\n",
       "      <td>-1.000000e+00</td>\n",
       "    </tr>\n",
       "  </tbody>\n",
       "</table>\n",
       "</div>"
      ],
      "text/plain": [
       "                     Gradient Boosting 1  Gradient Boosting 2       DTree 1  \\\n",
       "Gradient Boosting 1        -1.000000e+00         1.621325e-12  2.585626e-66   \n",
       "Gradient Boosting 2         1.621325e-12        -1.000000e+00  2.784387e-90   \n",
       "DTree 1                     2.585626e-66         2.784387e-90 -1.000000e+00   \n",
       "DTree 2                     1.283942e-11         1.507581e-28  1.579233e-21   \n",
       "RF 1                        4.071984e-06         2.014063e-01  6.475009e-83   \n",
       "RF 2                        6.911974e-07         4.353873e-01  3.935068e-84   \n",
       "\n",
       "                          DTree 2          RF 1          RF 2  \n",
       "Gradient Boosting 1  1.283942e-11  4.071984e-06  6.911974e-07  \n",
       "Gradient Boosting 2  1.507581e-28  2.014063e-01  4.353873e-01  \n",
       "DTree 1              1.579233e-21  6.475009e-83  3.935068e-84  \n",
       "DTree 2             -1.000000e+00  9.256417e-23  1.456094e-23  \n",
       "RF 1                 9.256417e-23 -1.000000e+00  1.000000e+00  \n",
       "RF 2                 1.456094e-23  1.000000e+00 -1.000000e+00  "
      ]
     },
     "metadata": {},
     "output_type": "display_data"
    },
    {
     "data": {
      "text/plain": [
       "RF 2                    3.679515\n",
       "RF 1                    3.834495\n",
       "Gradient Boosting 2     3.852611\n",
       "Gradient Boosting 1     4.936870\n",
       "DTree 2                 5.920786\n",
       "DTree 1                10.859334\n",
       "dtype: float64"
      ]
     },
     "metadata": {},
     "output_type": "display_data"
    }
   ],
   "source": [
   ]
  },
  {
   "cell_type": "markdown",
   "metadata": {},
   "source": [
    "**Exercise 6** Are there still any ties? If so, what are the best models? From there select the top model in terms of average error. Would this have been your same conclusion with only 30 experiments?"
   ]
  },
  {
   "cell_type": "markdown",
   "metadata": {},
   "source": [
   ]
  },
  {
   "cell_type": "markdown",
   "metadata": {},
   "source": [
    "**Exercise 7** With you model of choice, calculate the mean_squared_error and r2_score."
   ]
  },
  {
   "cell_type": "code",
   "execution_count": 53,
   "metadata": {},
   "outputs": [
    {
     "name": "stdout",
     "output_type": "stream",
     "text": [
      "Mean squared error: 4.61\n",
      "Test Variance score: 0.92\n"
     ]
    }
   ],
   "source": [
   ]
  },
  {
   "cell_type": "markdown",
   "metadata": {},
   "source": [
    "**Exercise 8** Now compute feature importance using the method we've developed in previous labs. I have two loops here. One is that I rerun train_test_split 50 times as you can see from above this makes a difference. Then I also permute each feature 100 times. Test your code with much smaller numbers."
   ]
  },
  {
   "cell_type": "code",
   "execution_count": 65,
   "metadata": {},
   "outputs": [],
   "source": [
    "num_iterations = 10\n",
    "percent_diff_score = {}\n",
    "iterations = {}\n",
    "experiments = {}\n",
    "for iteration in range(num_iterations):\n",
    "    Xtrain, Xtest, ytrain, ytest = train_test_split(X,y,test_size=0.10,shuffle=True)\n",
    "    # YOUR SOLUTION HERE\n",
    "    \n"
   ]
  },
  {
   "cell_type": "code",
   "execution_count": 69,
   "metadata": {},
   "outputs": [
    {
     "data": {
      "text/plain": [
       "ZN          0.001522\n",
       "CHAS        0.002573\n",
       "RAD         0.018705\n",
       "INDUS       0.054856\n",
       "B           0.105710\n",
       "PTRATIO     0.133865\n",
       "AGE         0.184651\n",
       "CRIM        0.294451\n",
       "NOX         0.364589\n",
       "TAX         0.839877\n",
       "RM          5.929645\n",
       "DIS        10.735753\n",
       "LSTAT      12.388118\n",
       "Name: mean, dtype: float64"
      ]
     },
     "metadata": {},
     "output_type": "display_data"
    },
    {
     "data": {
      "text/plain": [
       "<matplotlib.axes._subplots.AxesSubplot at 0x7f5ffdd12860>"
      ]
     },
     "execution_count": 69,
     "metadata": {},
     "output_type": "execute_result"
    },
    {
     "data": {
      "image/png": "[encoded data removed]",
      "text/plain": [
       "<Figure size 432x288 with 1 Axes>"
      ]
     },
     "metadata": {
      "needs_background": "light"
     },
     "output_type": "display_data"
    }
   ],
   "source": [
    "# NOTE: I did (new_score-orig_score)/orig_score, so the most important feature is the one with the largest average difference\n",
    "percent_diff_score_data=pd.DataFrame(percent_diff_score).describe().loc['mean'].sort_values()\n",
    "display(percent_diff_score_data)\n",
    "percent_diff_score_data.plot.bar()"
   ]
  },
  {
   "cell_type": "markdown",
   "metadata": {},
   "source": [
    "Based on the analysis when this notebook was last run, I would say that the three most important features are RM, DIS, and LSTAT. Let's see what happens when we compare our performance."
   ]
  },
  {
   "cell_type": "code",
   "execution_count": 73,
   "metadata": {},
   "outputs": [],
   "source": [
    "num_iterations = 30\n",
    "predictions = []\n",
    "ytests = []\n",
    "for iteration in range(num_iterations):\n",
    "    Xtrain, Xtest, ytrain, ytest = train_test_split(X,y,test_size=0.10,shuffle=True)\n",
    "    # YOUR SOLUTION HERE"
   ]
  },
  {
   "cell_type": "code",
   "execution_count": 74,
   "metadata": {},
   "outputs": [
    {
     "data": {
      "text/html": [
       "<div>\n",
       "<style scoped>\n",
       "    .dataframe tbody tr th:only-of-type {\n",
       "        vertical-align: middle;\n",
       "    }\n",
       "\n",
       "    .dataframe tbody tr th {\n",
       "        vertical-align: top;\n",
       "    }\n",
       "\n",
       "    .dataframe thead th {\n",
       "        text-align: right;\n",
       "    }\n",
       "</style>\n",
       "<table border=\"1\" class=\"dataframe\">\n",
       "  <thead>\n",
       "    <tr style=\"text-align: right;\">\n",
       "      <th></th>\n",
       "      <th>All features</th>\n",
       "      <th>Subset</th>\n",
       "    </tr>\n",
       "  </thead>\n",
       "  <tbody>\n",
       "    <tr>\n",
       "      <td>count</td>\n",
       "      <td>30.000000</td>\n",
       "      <td>30.000000</td>\n",
       "    </tr>\n",
       "    <tr>\n",
       "      <td>mean</td>\n",
       "      <td>11.005750</td>\n",
       "      <td>16.605776</td>\n",
       "    </tr>\n",
       "    <tr>\n",
       "      <td>std</td>\n",
       "      <td>5.250063</td>\n",
       "      <td>6.520309</td>\n",
       "    </tr>\n",
       "    <tr>\n",
       "      <td>min</td>\n",
       "      <td>4.463181</td>\n",
       "      <td>8.218935</td>\n",
       "    </tr>\n",
       "    <tr>\n",
       "      <td>25%</td>\n",
       "      <td>6.557377</td>\n",
       "      <td>11.134245</td>\n",
       "    </tr>\n",
       "    <tr>\n",
       "      <td>50%</td>\n",
       "      <td>8.732062</td>\n",
       "      <td>14.414473</td>\n",
       "    </tr>\n",
       "    <tr>\n",
       "      <td>75%</td>\n",
       "      <td>15.408115</td>\n",
       "      <td>22.826222</td>\n",
       "    </tr>\n",
       "    <tr>\n",
       "      <td>max</td>\n",
       "      <td>21.485179</td>\n",
       "      <td>29.822662</td>\n",
       "    </tr>\n",
       "  </tbody>\n",
       "</table>\n",
       "</div>"
      ],
      "text/plain": [
       "       All features     Subset\n",
       "count     30.000000  30.000000\n",
       "mean      11.005750  16.605776\n",
       "std        5.250063   6.520309\n",
       "min        4.463181   8.218935\n",
       "25%        6.557377  11.134245\n",
       "50%        8.732062  14.414473\n",
       "75%       15.408115  22.826222\n",
       "max       21.485179  29.822662"
      ]
     },
     "execution_count": 74,
     "metadata": {},
     "output_type": "execute_result"
    }
   ],
   "source": [
    "errors = {}\n",
    "for desc in ['All features','Subset']:\n",
    "    errors[desc] = []\n",
    "    for iteration in range(num_iterations):\n",
    "        # YOUR SOLUTION HERE\n",
    "errors = pd.DataFrame(errors)\n",
    "errors.describe()"
   ]
  },
  {
   "cell_type": "markdown",
   "metadata": {},
   "source": [
    "I would say that is not too bad of a difference in score considering we are only using 3 of the features."
   ]
  },
  {
   "cell_type": "markdown",
   "metadata": {},
   "source": [
    "**Exercise 9** Now what if I told you that Random Forest and other classifiers have built-in measures for feature importance. Run the following code and compare the feature importance scores. The calculation of these needs to be saved for another time and place, but the trees themselves contain information about feature importance based on the location in the tree a feature is most often selected."
   ]
  },
  {
   "cell_type": "code",
   "execution_count": 75,
   "metadata": {},
   "outputs": [
    {
     "data": {
      "text/plain": [
       "<matplotlib.axes._subplots.AxesSubplot at 0x7f5ffdb826d8>"
      ]
     },
     "execution_count": 75,
     "metadata": {},
     "output_type": "execute_result"
    },
    {
     "data": {
      "image/png": "[encoded data removed]",
      "text/plain": [
       "<Figure size 432x288 with 1 Axes>"
      ]
     },
     "metadata": {
      "needs_background": "light"
     },
     "output_type": "display_data"
    }
   ],
   "source": [
    "forest = RandomForestRegressor(n_estimators=500)\n",
    "forest.fit(X,y)\n",
    "importances = forest.feature_importances_\n",
    "importances = pd.DataFrame({'Feature':X.columns,'Importance':importances})\n",
    "importances.sort_values(by='Importance').set_index('Feature').plot.bar()"
   ]
  },
  {
   "cell_type": "markdown",
   "metadata": {},
   "source": [
   ]
  },
  {
   "cell_type": "markdown",
   "metadata": {},
   "source": [
    "**Implementation from scratch portion**: We are now going to implement two ensemble learning methods from scratch and see how our implementations compare to sklearn."
   ]
  },
  {
   "cell_type": "markdown",
   "metadata": {},
   "source": [
    "**Exercise 10** Implement a simple random forest classifier and compare the performance to one of the random forest classifiers above."
   ]
  },
  {
   "cell_type": "code",
   "execution_count": 89,
   "metadata": {},
   "outputs": [],
   "source": [
   ]
  },
  {
   "cell_type": "code",
   "execution_count": 90,
   "metadata": {},
   "outputs": [
    {
     "data": {
      "text/html": [
       "<div>\n",
       "<style scoped>\n",
       "    .dataframe tbody tr th:only-of-type {\n",
       "        vertical-align: middle;\n",
       "    }\n",
       "\n",
       "    .dataframe tbody tr th {\n",
       "        vertical-align: top;\n",
       "    }\n",
       "\n",
       "    .dataframe thead th {\n",
       "        text-align: right;\n",
       "    }\n",
       "</style>\n",
       "<table border=\"1\" class=\"dataframe\">\n",
       "  <thead>\n",
       "    <tr style=\"text-align: right;\">\n",
       "      <th></th>\n",
       "      <th>sklearn RF</th>\n",
       "      <th>Our RF</th>\n",
       "    </tr>\n",
       "  </thead>\n",
       "  <tbody>\n",
       "    <tr>\n",
       "      <td>count</td>\n",
       "      <td>10.000000</td>\n",
       "      <td>10.000000</td>\n",
       "    </tr>\n",
       "    <tr>\n",
       "      <td>mean</td>\n",
       "      <td>12.737828</td>\n",
       "      <td>17.057502</td>\n",
       "    </tr>\n",
       "    <tr>\n",
       "      <td>std</td>\n",
       "      <td>3.329105</td>\n",
       "      <td>9.236010</td>\n",
       "    </tr>\n",
       "    <tr>\n",
       "      <td>min</td>\n",
       "      <td>7.159545</td>\n",
       "      <td>9.181140</td>\n",
       "    </tr>\n",
       "    <tr>\n",
       "      <td>25%</td>\n",
       "      <td>10.697455</td>\n",
       "      <td>11.162742</td>\n",
       "    </tr>\n",
       "    <tr>\n",
       "      <td>50%</td>\n",
       "      <td>12.498135</td>\n",
       "      <td>14.804409</td>\n",
       "    </tr>\n",
       "    <tr>\n",
       "      <td>75%</td>\n",
       "      <td>14.601846</td>\n",
       "      <td>16.960383</td>\n",
       "    </tr>\n",
       "    <tr>\n",
       "      <td>max</td>\n",
       "      <td>17.954829</td>\n",
       "      <td>40.438191</td>\n",
       "    </tr>\n",
       "  </tbody>\n",
       "</table>\n",
       "</div>"
      ],
      "text/plain": [
       "       sklearn RF     Our RF\n",
       "count   10.000000  10.000000\n",
       "mean    12.737828  17.057502\n",
       "std      3.329105   9.236010\n",
       "min      7.159545   9.181140\n",
       "25%     10.697455  11.162742\n",
       "50%     12.498135  14.804409\n",
       "75%     14.601846  16.960383\n",
       "max     17.954829  40.438191"
      ]
     },
     "execution_count": 90,
     "metadata": {},
     "output_type": "execute_result"
    }
   ],
   "source": [
    "errors = {}\n",
    "for desc in ['sklearn RF','Our RF']:\n",
    "    errors[desc] = []\n",
    "    for iteration in range(num_iterations):\n",
    "        # YOUR SOLUTION HERE\n",
    "errors = pd.DataFrame(errors)\n",
    "errors.describe()"
   ]
  },
  {
   "cell_type": "markdown",
   "metadata": {},
   "source": [
    "**Exercise 10** Implement gradient boosting from scratch using a mean squared error loss function. Compare the performance. I \"boosted\" 100 times. I've shown my validation graph. Every run is a little different, and it would definitely make this algorithm smarter if you stopped based on the validation graph."
   ]
  },
  {
   "cell_type": "code",
   "execution_count": 154,
   "metadata": {},
   "outputs": [],
   "source": [
   ]
  },
  {
   "cell_type": "code",
   "execution_count": 155,
   "metadata": {},
   "outputs": [
    {
     "data": {
      "text/plain": [
       "<matplotlib.axes._subplots.AxesSubplot at 0x7f5ffcd226a0>"
      ]
     },
     "execution_count": 155,
     "metadata": {},
     "output_type": "execute_result"
    },
    {
     "data": {
      "image/png": "[encoded data removed]",
      "text/plain": [
       "<Figure size 432x288 with 1 Axes>"
      ]
     },
     "metadata": {
      "needs_background": "light"
     },
     "output_type": "display_data"
    }
   ],
   "source": [
    "pd.DataFrame({\"Validation MSE\":val_mses}).plot.line()"
   ]
  },
  {
   "cell_type": "code",
   "execution_count": 156,
   "metadata": {},
   "outputs": [
    {
     "data": {
      "text/html": [
       "<div>\n",
       "<style scoped>\n",
       "    .dataframe tbody tr th:only-of-type {\n",
       "        vertical-align: middle;\n",
       "    }\n",
       "\n",
       "    .dataframe tbody tr th {\n",
       "        vertical-align: top;\n",
       "    }\n",
       "\n",
       "    .dataframe thead th {\n",
       "        text-align: right;\n",
       "    }\n",
       "</style>\n",
       "<table border=\"1\" class=\"dataframe\">\n",
       "  <thead>\n",
       "    <tr style=\"text-align: right;\">\n",
       "      <th></th>\n",
       "      <th>sklearn GB</th>\n",
       "      <th>Our Gradient Boosting</th>\n",
       "    </tr>\n",
       "  </thead>\n",
       "  <tbody>\n",
       "    <tr>\n",
       "      <td>count</td>\n",
       "      <td>10.000000</td>\n",
       "      <td>10.000000</td>\n",
       "    </tr>\n",
       "    <tr>\n",
       "      <td>mean</td>\n",
       "      <td>8.301988</td>\n",
       "      <td>15.298447</td>\n",
       "    </tr>\n",
       "    <tr>\n",
       "      <td>std</td>\n",
       "      <td>2.913444</td>\n",
       "      <td>10.377214</td>\n",
       "    </tr>\n",
       "    <tr>\n",
       "      <td>min</td>\n",
       "      <td>4.871719</td>\n",
       "      <td>8.623325</td>\n",
       "    </tr>\n",
       "    <tr>\n",
       "      <td>25%</td>\n",
       "      <td>6.359372</td>\n",
       "      <td>10.719235</td>\n",
       "    </tr>\n",
       "    <tr>\n",
       "      <td>50%</td>\n",
       "      <td>7.804318</td>\n",
       "      <td>12.606270</td>\n",
       "    </tr>\n",
       "    <tr>\n",
       "      <td>75%</td>\n",
       "      <td>9.495140</td>\n",
       "      <td>13.775581</td>\n",
       "    </tr>\n",
       "    <tr>\n",
       "      <td>max</td>\n",
       "      <td>15.031566</td>\n",
       "      <td>44.240582</td>\n",
       "    </tr>\n",
       "  </tbody>\n",
       "</table>\n",
       "</div>"
      ],
      "text/plain": [
       "       sklearn GB  Our Gradient Boosting\n",
       "count   10.000000              10.000000\n",
       "mean     8.301988              15.298447\n",
       "std      2.913444              10.377214\n",
       "min      4.871719               8.623325\n",
       "25%      6.359372              10.719235\n",
       "50%      7.804318              12.606270\n",
       "75%      9.495140              13.775581\n",
       "max     15.031566              44.240582"
      ]
     },
     "execution_count": 156,
     "metadata": {},
     "output_type": "execute_result"
    }
   ],
   "source": [
    "errors = {}\n",
    "for desc in ['sklearn GB','Our Gradient Boosting']:\n",
    "    errors[desc] = []\n",
    "    for iteration in range(num_iterations):\n",
    "        # YOUR SOLUTION HERE\n",
    "errors = pd.DataFrame(errors)\n",
    "errors.describe()"
   ]
  }
 ],
 "metadata": {
  "jupytext": {
   "formats": "ipynb,md"
  },
  "kernelspec": {
   "display_name": "Python 3",
   "language": "python",
   "name": "python3"
  },
  "language_info": {
   "codemirror_mode": {
    "name": "ipython",
    "version": 3
   },
   "file_extension": ".py",
   "mimetype": "text/x-python",
   "name": "python",
   "nbconvert_exporter": "python",
   "pygments_lexer": "ipython3",
   "version": "3.7.3"
  }
 },
 "nbformat": 4,
 "nbformat_minor": 4
}
