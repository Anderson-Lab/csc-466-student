{
 "cells": [
  {
   "cell_type": "markdown",
   "metadata": {},
   "source": [
    "# Name(s)\n",
    "**PUT YOUR FULL NAME(S) HERE**"
   ]
  },
  {
   "cell_type": "markdown",
   "metadata": {},
   "source": [
    "**Instructions:** Pair programming assignment. Submit only a single notebook unless you deviate significantly after lab on Thursday. If you submit individually, make sure you indicate who you worked with originally. Make sure to include your first and last names."
   ]
  },
  {
   "cell_type": "markdown",
   "metadata": {},
   "source": [
    "# Decision Trees\n",
    "\n",
    "## Preface\n",
    "(Courtesy of Dr. Alex Dekhtyar)\n",
    "\n",
    "The core objective of Knowledge Discovery in Data/Data Mining/Machine Learning methods is to provide efficient algorithms for gaining insight from data. CSC 466 primarily studies the methods and the algorithms that enable\n",
    "such insight, and that specifically take this insight above and beyond traditional statistical analysis of data (more\n",
    "about this — later in the course).\n",
    "However, the true power of KDD/DM/ML methods that we will study in this course is witnessed only when\n",
    "these methods are applied to actually gain insight from the data. As such, in this course, the deliverables for your\n",
    "laboratory assignments will be partitioned into two categories:\n",
    "\n",
    "1. KDD Method implementation. In most labs you will be asked to implement from scratch one or more\n",
    "KDD method for producing a special type of insight from data. This part of the labs is similar to your other\n",
    "CS coursework - you will submit your code, and, sometimes, your tests and/or output.\n",
    "\n",
    "2. Insight, a.k.a., data analysis. For each lab assignment we will provide one or more datasets for your\n",
    "perusal, and will ask you to perform the analysis of these datasets using the methods you implemented. The\n",
    "results of this analysis, i.e., the insight, are as important for successful completion of your assignments, as\n",
    "your implementations. Most of the time, you will be asked to submit a lab report detailing your analysis,\n",
    "and containing the answers to the questions you are asked to study.\n",
    "The insight portion of your deliverables is something that you may be seeing for the first time in your CS\n",
    "coursework. It is not an afterthought in your lab assignments. Your grade will, in no small part, depend on\n",
    "the results of your analysis, and the writing quality on your report. This lab assignment, and further assignments\n",
    "will include detailed insturctions on how to prepare reports, and we will discuss report writing several times as\n",
    "the course progresses.\n",
    "\n",
    "## Lab Assignment\n",
    "\n",
    "This is a pair programming assignment. I strongly\n",
    "discourage individual work for this (and other team/pair programming) lab(s), even if you think you can do it\n",
    "all by yourself. Also, this is a pair programming assignment, not a ”work in teams of two” assignment. Pair\n",
    "programming requires joint work on all aspects of the project without delegating portions of the work to individual\n",
    "1\n",
    "team members. For this lab, I want all your work — discussion, software development, analysis of the results,\n",
    "report writing — to be products of joint work.\n",
    "Students enrolled in the class can pair with other students enrolled in the class. Students on the waitlist can\n",
    "pair with other students on the waitlists. In the cases of ”odd person out” situations, a team of three people can\n",
    "be formed, but that team must (a) ask and answer one additional question, and (b) work as a pair would, without\n",
    "delegation of any work off-line."
   ]
  },
  {
   "cell_type": "markdown",
   "metadata": {},
   "source": [
    "For this lab, we are going to implement a variation of the C4.5 decision tree with statistical pruning. C4.5 provides several improvements over ID3 though the base structure is very similar. Note that there are different methods for pruning a decision tree. Here we will use statistical confidence intervals. If you have trouble getting started, don't forget Marsland has sample code on his website that corresponds to the book.\n",
    "\n",
    "We will start with our titanic dataset first."
   ]
  },
  {
   "cell_type": "code",
   "execution_count": 2,
   "metadata": {},
   "outputs": [
    {
     "data": {
      "text/html": [
       "<div>\n",
       "<style scoped>\n",
       "    .dataframe tbody tr th:only-of-type {\n",
       "        vertical-align: middle;\n",
       "    }\n",
       "\n",
       "    .dataframe tbody tr th {\n",
       "        vertical-align: top;\n",
       "    }\n",
       "\n",
       "    .dataframe thead th {\n",
       "        text-align: right;\n",
       "    }\n",
       "</style>\n",
       "<table border=\"1\" class=\"dataframe\">\n",
       "  <thead>\n",
       "    <tr style=\"text-align: right;\">\n",
       "      <th></th>\n",
       "      <th>pclass</th>\n",
       "      <th>survived</th>\n",
       "      <th>name</th>\n",
       "      <th>sex</th>\n",
       "      <th>age</th>\n",
       "      <th>sibsp</th>\n",
       "      <th>parch</th>\n",
       "      <th>ticket</th>\n",
       "      <th>fare</th>\n",
       "      <th>cabin</th>\n",
       "      <th>embarked</th>\n",
       "      <th>boat</th>\n",
       "      <th>body</th>\n",
       "      <th>home.dest</th>\n",
       "    </tr>\n",
       "  </thead>\n",
       "  <tbody>\n",
       "    <tr>\n",
       "      <td>0</td>\n",
       "      <td>1</td>\n",
       "      <td>1</td>\n",
       "      <td>Allen, Miss. Elisabeth Walton</td>\n",
       "      <td>female</td>\n",
       "      <td>29.0000</td>\n",
       "      <td>0</td>\n",
       "      <td>0</td>\n",
       "      <td>24160</td>\n",
       "      <td>211.3375</td>\n",
       "      <td>B5</td>\n",
       "      <td>S</td>\n",
       "      <td>2</td>\n",
       "      <td>NaN</td>\n",
       "      <td>St Louis, MO</td>\n",
       "    </tr>\n",
       "    <tr>\n",
       "      <td>1</td>\n",
       "      <td>1</td>\n",
       "      <td>1</td>\n",
       "      <td>Allison, Master. Hudson Trevor</td>\n",
       "      <td>male</td>\n",
       "      <td>0.9167</td>\n",
       "      <td>1</td>\n",
       "      <td>2</td>\n",
       "      <td>113781</td>\n",
       "      <td>151.5500</td>\n",
       "      <td>C22 C26</td>\n",
       "      <td>S</td>\n",
       "      <td>11</td>\n",
       "      <td>NaN</td>\n",
       "      <td>Montreal, PQ / Chesterville, ON</td>\n",
       "    </tr>\n",
       "    <tr>\n",
       "      <td>2</td>\n",
       "      <td>1</td>\n",
       "      <td>0</td>\n",
       "      <td>Allison, Miss. Helen Loraine</td>\n",
       "      <td>female</td>\n",
       "      <td>2.0000</td>\n",
       "      <td>1</td>\n",
       "      <td>2</td>\n",
       "      <td>113781</td>\n",
       "      <td>151.5500</td>\n",
       "      <td>C22 C26</td>\n",
       "      <td>S</td>\n",
       "      <td>NaN</td>\n",
       "      <td>NaN</td>\n",
       "      <td>Montreal, PQ / Chesterville, ON</td>\n",
       "    </tr>\n",
       "    <tr>\n",
       "      <td>3</td>\n",
       "      <td>1</td>\n",
       "      <td>0</td>\n",
       "      <td>Allison, Mr. Hudson Joshua Creighton</td>\n",
       "      <td>male</td>\n",
       "      <td>30.0000</td>\n",
       "      <td>1</td>\n",
       "      <td>2</td>\n",
       "      <td>113781</td>\n",
       "      <td>151.5500</td>\n",
       "      <td>C22 C26</td>\n",
       "      <td>S</td>\n",
       "      <td>NaN</td>\n",
       "      <td>135.0</td>\n",
       "      <td>Montreal, PQ / Chesterville, ON</td>\n",
       "    </tr>\n",
       "    <tr>\n",
       "      <td>4</td>\n",
       "      <td>1</td>\n",
       "      <td>0</td>\n",
       "      <td>Allison, Mrs. Hudson J C (Bessie Waldo Daniels)</td>\n",
       "      <td>female</td>\n",
       "      <td>25.0000</td>\n",
       "      <td>1</td>\n",
       "      <td>2</td>\n",
       "      <td>113781</td>\n",
       "      <td>151.5500</td>\n",
       "      <td>C22 C26</td>\n",
       "      <td>S</td>\n",
       "      <td>NaN</td>\n",
       "      <td>NaN</td>\n",
       "      <td>Montreal, PQ / Chesterville, ON</td>\n",
       "    </tr>\n",
       "  </tbody>\n",
       "</table>\n",
       "</div>"
      ],
      "text/plain": [
       "   pclass  survived                                             name     sex  \\\n",
       "0       1         1                    Allen, Miss. Elisabeth Walton  female   \n",
       "1       1         1                   Allison, Master. Hudson Trevor    male   \n",
       "2       1         0                     Allison, Miss. Helen Loraine  female   \n",
       "3       1         0             Allison, Mr. Hudson Joshua Creighton    male   \n",
       "4       1         0  Allison, Mrs. Hudson J C (Bessie Waldo Daniels)  female   \n",
       "\n",
       "       age  sibsp  parch  ticket      fare    cabin embarked boat   body  \\\n",
       "0  29.0000      0      0   24160  211.3375       B5        S    2    NaN   \n",
       "1   0.9167      1      2  113781  151.5500  C22 C26        S   11    NaN   \n",
       "2   2.0000      1      2  113781  151.5500  C22 C26        S  NaN    NaN   \n",
       "3  30.0000      1      2  113781  151.5500  C22 C26        S  NaN  135.0   \n",
       "4  25.0000      1      2  113781  151.5500  C22 C26        S  NaN    NaN   \n",
       "\n",
       "                         home.dest  \n",
       "0                     St Louis, MO  \n",
       "1  Montreal, PQ / Chesterville, ON  \n",
       "2  Montreal, PQ / Chesterville, ON  \n",
       "3  Montreal, PQ / Chesterville, ON  \n",
       "4  Montreal, PQ / Chesterville, ON  "
      ]
     },
     "execution_count": 2,
     "metadata": {},
     "output_type": "execute_result"
    }
   ],
   "source": [
    "import pandas as pd\n",
    "titanic_df = pd.read_csv(\n",
    "    \"https://raw.githubusercontent.com/dlsun/data-science-book/master/data/titanic.csv\"\n",
    ")\n",
    "titanic_df.head()"
   ]
  },
  {
   "cell_type": "markdown",
   "metadata": {},
   "source": [
    "We only need a few columns, and I will also perform some preprocessing for you:"
   ]
  },
  {
   "cell_type": "code",
   "execution_count": 3,
   "metadata": {},
   "outputs": [
    {
     "data": {
      "text/html": [
       "<div>\n",
       "<style scoped>\n",
       "    .dataframe tbody tr th:only-of-type {\n",
       "        vertical-align: middle;\n",
       "    }\n",
       "\n",
       "    .dataframe tbody tr th {\n",
       "        vertical-align: top;\n",
       "    }\n",
       "\n",
       "    .dataframe thead th {\n",
       "        text-align: right;\n",
       "    }\n",
       "</style>\n",
       "<table border=\"1\" class=\"dataframe\">\n",
       "  <thead>\n",
       "    <tr style=\"text-align: right;\">\n",
       "      <th></th>\n",
       "      <th>pclass</th>\n",
       "      <th>survived</th>\n",
       "      <th>sex</th>\n",
       "      <th>age</th>\n",
       "    </tr>\n",
       "  </thead>\n",
       "  <tbody>\n",
       "    <tr>\n",
       "      <td>0</td>\n",
       "      <td>1</td>\n",
       "      <td>1</td>\n",
       "      <td>female</td>\n",
       "      <td>29.0000</td>\n",
       "    </tr>\n",
       "    <tr>\n",
       "      <td>1</td>\n",
       "      <td>1</td>\n",
       "      <td>1</td>\n",
       "      <td>male</td>\n",
       "      <td>0.9167</td>\n",
       "    </tr>\n",
       "    <tr>\n",
       "      <td>2</td>\n",
       "      <td>1</td>\n",
       "      <td>0</td>\n",
       "      <td>female</td>\n",
       "      <td>2.0000</td>\n",
       "    </tr>\n",
       "    <tr>\n",
       "      <td>3</td>\n",
       "      <td>1</td>\n",
       "      <td>0</td>\n",
       "      <td>male</td>\n",
       "      <td>30.0000</td>\n",
       "    </tr>\n",
       "    <tr>\n",
       "      <td>4</td>\n",
       "      <td>1</td>\n",
       "      <td>0</td>\n",
       "      <td>female</td>\n",
       "      <td>25.0000</td>\n",
       "    </tr>\n",
       "    <tr>\n",
       "      <td>...</td>\n",
       "      <td>...</td>\n",
       "      <td>...</td>\n",
       "      <td>...</td>\n",
       "      <td>...</td>\n",
       "    </tr>\n",
       "    <tr>\n",
       "      <td>1304</td>\n",
       "      <td>3</td>\n",
       "      <td>0</td>\n",
       "      <td>female</td>\n",
       "      <td>14.5000</td>\n",
       "    </tr>\n",
       "    <tr>\n",
       "      <td>1305</td>\n",
       "      <td>3</td>\n",
       "      <td>0</td>\n",
       "      <td>female</td>\n",
       "      <td>NaN</td>\n",
       "    </tr>\n",
       "    <tr>\n",
       "      <td>1306</td>\n",
       "      <td>3</td>\n",
       "      <td>0</td>\n",
       "      <td>male</td>\n",
       "      <td>26.5000</td>\n",
       "    </tr>\n",
       "    <tr>\n",
       "      <td>1307</td>\n",
       "      <td>3</td>\n",
       "      <td>0</td>\n",
       "      <td>male</td>\n",
       "      <td>27.0000</td>\n",
       "    </tr>\n",
       "    <tr>\n",
       "      <td>1308</td>\n",
       "      <td>3</td>\n",
       "      <td>0</td>\n",
       "      <td>male</td>\n",
       "      <td>29.0000</td>\n",
       "    </tr>\n",
       "  </tbody>\n",
       "</table>\n",
       "<p>1309 rows × 4 columns</p>\n",
       "</div>"
      ],
      "text/plain": [
       "      pclass  survived     sex      age\n",
       "0          1         1  female  29.0000\n",
       "1          1         1    male   0.9167\n",
       "2          1         0  female   2.0000\n",
       "3          1         0    male  30.0000\n",
       "4          1         0  female  25.0000\n",
       "...      ...       ...     ...      ...\n",
       "1304       3         0  female  14.5000\n",
       "1305       3         0  female      NaN\n",
       "1306       3         0    male  26.5000\n",
       "1307       3         0    male  27.0000\n",
       "1308       3         0    male  29.0000\n",
       "\n",
       "[1309 rows x 4 columns]"
      ]
     },
     "metadata": {},
     "output_type": "display_data"
    },
    {
     "data": {
      "text/html": [
       "<div>\n",
       "<style scoped>\n",
       "    .dataframe tbody tr th:only-of-type {\n",
       "        vertical-align: middle;\n",
       "    }\n",
       "\n",
       "    .dataframe tbody tr th {\n",
       "        vertical-align: top;\n",
       "    }\n",
       "\n",
       "    .dataframe thead th {\n",
       "        text-align: right;\n",
       "    }\n",
       "</style>\n",
       "<table border=\"1\" class=\"dataframe\">\n",
       "  <thead>\n",
       "    <tr style=\"text-align: right;\">\n",
       "      <th></th>\n",
       "      <th>pclass</th>\n",
       "      <th>survived</th>\n",
       "      <th>sex</th>\n",
       "      <th>age</th>\n",
       "    </tr>\n",
       "  </thead>\n",
       "  <tbody>\n",
       "    <tr>\n",
       "      <td>0</td>\n",
       "      <td>1</td>\n",
       "      <td>1</td>\n",
       "      <td>female</td>\n",
       "      <td>20</td>\n",
       "    </tr>\n",
       "    <tr>\n",
       "      <td>1</td>\n",
       "      <td>1</td>\n",
       "      <td>1</td>\n",
       "      <td>male</td>\n",
       "      <td>0</td>\n",
       "    </tr>\n",
       "    <tr>\n",
       "      <td>2</td>\n",
       "      <td>1</td>\n",
       "      <td>0</td>\n",
       "      <td>female</td>\n",
       "      <td>0</td>\n",
       "    </tr>\n",
       "    <tr>\n",
       "      <td>3</td>\n",
       "      <td>1</td>\n",
       "      <td>0</td>\n",
       "      <td>male</td>\n",
       "      <td>30</td>\n",
       "    </tr>\n",
       "    <tr>\n",
       "      <td>4</td>\n",
       "      <td>1</td>\n",
       "      <td>0</td>\n",
       "      <td>female</td>\n",
       "      <td>20</td>\n",
       "    </tr>\n",
       "    <tr>\n",
       "      <td>...</td>\n",
       "      <td>...</td>\n",
       "      <td>...</td>\n",
       "      <td>...</td>\n",
       "      <td>...</td>\n",
       "    </tr>\n",
       "    <tr>\n",
       "      <td>1304</td>\n",
       "      <td>3</td>\n",
       "      <td>0</td>\n",
       "      <td>female</td>\n",
       "      <td>10</td>\n",
       "    </tr>\n",
       "    <tr>\n",
       "      <td>1305</td>\n",
       "      <td>3</td>\n",
       "      <td>0</td>\n",
       "      <td>female</td>\n",
       "      <td>20</td>\n",
       "    </tr>\n",
       "    <tr>\n",
       "      <td>1306</td>\n",
       "      <td>3</td>\n",
       "      <td>0</td>\n",
       "      <td>male</td>\n",
       "      <td>20</td>\n",
       "    </tr>\n",
       "    <tr>\n",
       "      <td>1307</td>\n",
       "      <td>3</td>\n",
       "      <td>0</td>\n",
       "      <td>male</td>\n",
       "      <td>20</td>\n",
       "    </tr>\n",
       "    <tr>\n",
       "      <td>1308</td>\n",
       "      <td>3</td>\n",
       "      <td>0</td>\n",
       "      <td>male</td>\n",
       "      <td>20</td>\n",
       "    </tr>\n",
       "  </tbody>\n",
       "</table>\n",
       "<p>1309 rows × 4 columns</p>\n",
       "</div>"
      ],
      "text/plain": [
       "      pclass  survived     sex  age\n",
       "0          1         1  female   20\n",
       "1          1         1    male    0\n",
       "2          1         0  female    0\n",
       "3          1         0    male   30\n",
       "4          1         0  female   20\n",
       "...      ...       ...     ...  ...\n",
       "1304       3         0  female   10\n",
       "1305       3         0  female   20\n",
       "1306       3         0    male   20\n",
       "1307       3         0    male   20\n",
       "1308       3         0    male   20\n",
       "\n",
       "[1309 rows x 4 columns]"
      ]
     },
     "execution_count": 3,
     "metadata": {},
     "output_type": "execute_result"
    }
   ],
   "source": [
    "features = ['pclass','survived','sex','age']\n",
    "titanic_df = titanic_df.loc[:,features]\n",
    "display(titanic_df)\n",
    "titanic_df.loc[:,'pclass']=titanic_df['pclass'].fillna(titanic_df['pclass'].mode()).astype(int)\n",
    "titanic_df.loc[:,'age']=titanic_df['age'].fillna(titanic_df['age'].median())\n",
    "titanic_df.loc[:,'age']=(titanic_df['age']/10).astype(str).str[0].astype(int)*10\n",
    "titanic_df"
   ]
  },
  {
   "cell_type": "code",
   "execution_count": 4,
   "metadata": {},
   "outputs": [
    {
     "data": {
      "text/html": [
       "<div>\n",
       "<style scoped>\n",
       "    .dataframe tbody tr th:only-of-type {\n",
       "        vertical-align: middle;\n",
       "    }\n",
       "\n",
       "    .dataframe tbody tr th {\n",
       "        vertical-align: top;\n",
       "    }\n",
       "\n",
       "    .dataframe thead th {\n",
       "        text-align: right;\n",
       "    }\n",
       "</style>\n",
       "<table border=\"1\" class=\"dataframe\">\n",
       "  <thead>\n",
       "    <tr style=\"text-align: right;\">\n",
       "      <th></th>\n",
       "      <th>pclass</th>\n",
       "      <th>survived</th>\n",
       "      <th>age</th>\n",
       "    </tr>\n",
       "  </thead>\n",
       "  <tbody>\n",
       "    <tr>\n",
       "      <td>count</td>\n",
       "      <td>1309.000000</td>\n",
       "      <td>1309.000000</td>\n",
       "      <td>1309.000000</td>\n",
       "    </tr>\n",
       "    <tr>\n",
       "      <td>mean</td>\n",
       "      <td>2.294882</td>\n",
       "      <td>0.381971</td>\n",
       "      <td>24.385027</td>\n",
       "    </tr>\n",
       "    <tr>\n",
       "      <td>std</td>\n",
       "      <td>0.837836</td>\n",
       "      <td>0.486055</td>\n",
       "      <td>13.387598</td>\n",
       "    </tr>\n",
       "    <tr>\n",
       "      <td>min</td>\n",
       "      <td>1.000000</td>\n",
       "      <td>0.000000</td>\n",
       "      <td>0.000000</td>\n",
       "    </tr>\n",
       "    <tr>\n",
       "      <td>25%</td>\n",
       "      <td>2.000000</td>\n",
       "      <td>0.000000</td>\n",
       "      <td>20.000000</td>\n",
       "    </tr>\n",
       "    <tr>\n",
       "      <td>50%</td>\n",
       "      <td>3.000000</td>\n",
       "      <td>0.000000</td>\n",
       "      <td>20.000000</td>\n",
       "    </tr>\n",
       "    <tr>\n",
       "      <td>75%</td>\n",
       "      <td>3.000000</td>\n",
       "      <td>1.000000</td>\n",
       "      <td>30.000000</td>\n",
       "    </tr>\n",
       "    <tr>\n",
       "      <td>max</td>\n",
       "      <td>3.000000</td>\n",
       "      <td>1.000000</td>\n",
       "      <td>80.000000</td>\n",
       "    </tr>\n",
       "  </tbody>\n",
       "</table>\n",
       "</div>"
      ],
      "text/plain": [
       "            pclass     survived          age\n",
       "count  1309.000000  1309.000000  1309.000000\n",
       "mean      2.294882     0.381971    24.385027\n",
       "std       0.837836     0.486055    13.387598\n",
       "min       1.000000     0.000000     0.000000\n",
       "25%       2.000000     0.000000    20.000000\n",
       "50%       3.000000     0.000000    20.000000\n",
       "75%       3.000000     1.000000    30.000000\n",
       "max       3.000000     1.000000    80.000000"
      ]
     },
     "execution_count": 4,
     "metadata": {},
     "output_type": "execute_result"
    }
   ],
   "source": [
    "titanic_df.describe()"
   ]
  },
  {
   "cell_type": "markdown",
   "metadata": {},
   "source": [
    "## Exercise 1\n",
    "Construct a function that calculates the entropy of a set (Pandas Series Object).\n",
    "<pre>\n",
    "def entropy(y):\n",
    "  ???\n",
    "  return e\n",
    "</pre>"
   ]
  },
  {
   "cell_type": "code",
   "execution_count": 5,
   "metadata": {},
   "outputs": [
    {
     "data": {
      "text/plain": [
       "0.959422170862815"
      ]
     },
     "metadata": {},
     "output_type": "display_data"
    },
    {
     "data": {
      "text/plain": [
       "1.0"
      ]
     },
     "metadata": {},
     "output_type": "display_data"
    },
    {
     "data": {
      "text/plain": [
       "0.0"
      ]
     },
     "metadata": {},
     "output_type": "display_data"
    }
   ],
   "source": [
    "# YOUR SOLUTION HERE\n",
    "display(entropy(titanic_df['survived']))\n",
    "display(entropy(pd.Series([0,0,0,1,1,1])))\n",
    "display(entropy(pd.Series([0,0,0])))"
   ]
  },
  {
   "cell_type": "markdown",
   "metadata": {},
   "source": [
    "## Exercise 2\n",
    "Now write a function that calculates the information gain after splitting with a specific variable (Equation 12.2 from Marsland).\n",
    "<pre>\n",
    "def gain(y,x):\n",
    "  ???\n",
    "  return g\n",
    "</pre>"
   ]
  },
  {
   "cell_type": "code",
   "execution_count": 6,
   "metadata": {},
   "outputs": [
    {
     "data": {
      "text/plain": [
       "0.205504872720076"
      ]
     },
     "metadata": {},
     "output_type": "display_data"
    },
    {
     "data": {
      "text/plain": [
       "0.0704074128460409"
      ]
     },
     "metadata": {},
     "output_type": "display_data"
    },
    {
     "data": {
      "text/plain": [
       "0.01786395614222558"
      ]
     },
     "metadata": {},
     "output_type": "display_data"
    }
   ],
   "source": [
    "# YOUR SOLUTION HERE\n",
    "display(gain(titanic_df['survived'],titanic_df['sex']))\n",
    "display(gain(titanic_df['survived'],titanic_df['pclass']))\n",
    "display(gain(titanic_df['survived'],titanic_df['age']))"
   ]
  },
  {
   "cell_type": "markdown",
   "metadata": {},
   "source": [
    "## Exercise 3\n",
    "C4.5 actually uses the gain ratio which is defined as the information gain \"normalized\" (divided) by the entropy before the split. You have written everything you need here. Just put it together.\n",
    "\n",
    "<pre>\n",
    "def gain_ratio(y,x):\n",
    "  ???\n",
    "  return gr\n",
    "</pre>"
   ]
  },
  {
   "cell_type": "code",
   "execution_count": 7,
   "metadata": {},
   "outputs": [
    {
     "data": {
      "text/plain": [
       "0.21419650177071065"
      ]
     },
     "metadata": {},
     "output_type": "display_data"
    },
    {
     "data": {
      "text/plain": [
       "0.07338522600819515"
      ]
     },
     "metadata": {},
     "output_type": "display_data"
    },
    {
     "data": {
      "text/plain": [
       "0.01861949482172212"
      ]
     },
     "metadata": {},
     "output_type": "display_data"
    }
   ],
   "source": [
    "# YOUR SOLUTION HERE\n",
    "display(gain_ratio(titanic_df['survived'],titanic_df['sex']))\n",
    "display(gain_ratio(titanic_df['survived'],titanic_df['pclass']))\n",
    "display(gain_ratio(titanic_df['survived'],titanic_df['age']))"
   ]
  },
  {
   "cell_type": "markdown",
   "metadata": {},
   "source": [
    "## Exercise 4\n",
    "Define a function that chooses the column to split the tree out of possible columns in the dataframe.\n",
    "\n",
    "<pre>\n",
    "def select_split(X,y):\n",
    "   ???\n",
    "   return column,gain\n",
    "</pre>"
   ]
  },
  {
   "cell_type": "code",
   "execution_count": 8,
   "metadata": {},
   "outputs": [
    {
     "data": {
      "text/plain": [
       "('sex', 0.21419650177071065)"
      ]
     },
     "execution_count": 8,
     "metadata": {},
     "output_type": "execute_result"
    }
   ],
   "source": [
    "# YOUR SOLUTION HERE\n",
    "select_split(titanic_df.drop('survived',axis=1),titanic_df['survived'])"
   ]
  },
  {
   "cell_type": "markdown",
   "metadata": {},
   "source": [
    "## Exercise 5\n",
    "Now put it all together and construct a function called make_tree that returns a tree in a proprietary format of your choosing. Mine is a dictionary, but do whatever you want as long as it works :)\n",
    "\n",
    "HINT: Don't forget to look at the base case first.\n",
    "<pre>\n",
    "def make_tree(X,y):\n",
    "   ???\n",
    "   return tree\n",
    "</pre>"
   ]
  },
  {
   "cell_type": "code",
   "execution_count": 9,
   "metadata": {},
   "outputs": [
    {
     "data": {
      "text/plain": [
       "{'sex': {'female': {'pclass': {1: {'age': {20: 1,\n",
       "      0: 0,\n",
       "      60: 1,\n",
       "      50: 1,\n",
       "      10: 1,\n",
       "      30: 1,\n",
       "      40: 1,\n",
       "      70: 1}},\n",
       "    2: {'age': {20: 1, 30: 1, 10: 1, 0: 1, 40: 1, 50: 1, 60: 0}},\n",
       "    3: {'age': {30: 0, 10: 1, 40: 0, 0: 1, 20: 1, 60: 1}}}},\n",
       "  'male': {'age': {0: {'pclass': {1: 1, 2: 1, 3: 0}},\n",
       "    30: {'pclass': {1: 0, 2: 0, 3: 0}},\n",
       "    40: {'pclass': {1: 0, 2: 0, 3: 0}},\n",
       "    70: 0,\n",
       "    80: 1,\n",
       "    20: {'pclass': {1: 0, 2: 0, 3: 0}},\n",
       "    10: {'pclass': {1: 0, 2: 0, 3: 0}},\n",
       "    50: {'pclass': {1: 0, 2: 0, 3: 0}},\n",
       "    60: {'pclass': {1: 0, 2: 0, 3: 0}}}}}}"
      ]
     },
     "metadata": {},
     "output_type": "display_data"
    },
    {
     "name": "stdout",
     "output_type": "stream",
     "text": [
      "{\n",
      "    \"sex\": {\n",
      "        \"female\": {\n",
      "            \"pclass\": {\n",
      "                \"1\": {\n",
      "                    \"age\": {\n",
      "                        \"0\": 0,\n",
      "                        \"10\": 1,\n",
      "                        \"20\": 1,\n",
      "                        \"30\": 1,\n",
      "                        \"40\": 1,\n",
      "                        \"50\": 1,\n",
      "                        \"60\": 1,\n",
      "                        \"70\": 1\n",
      "                    }\n",
      "                },\n",
      "                \"2\": {\n",
      "                    \"age\": {\n",
      "                        \"0\": 1,\n",
      "                        \"10\": 1,\n",
      "                        \"20\": 1,\n",
      "                        \"30\": 1,\n",
      "                        \"40\": 1,\n",
      "                        \"50\": 1,\n",
      "                        \"60\": 0\n",
      "                    }\n",
      "                },\n",
      "                \"3\": {\n",
      "                    \"age\": {\n",
      "                        \"0\": 1,\n",
      "                        \"10\": 1,\n",
      "                        \"20\": 1,\n",
      "                        \"30\": 0,\n",
      "                        \"40\": 0,\n",
      "                        \"60\": 1\n",
      "                    }\n",
      "                }\n",
      "            }\n",
      "        },\n",
      "        \"male\": {\n",
      "            \"age\": {\n",
      "                \"0\": {\n",
      "                    \"pclass\": {\n",
      "                        \"1\": 1,\n",
      "                        \"2\": 1,\n",
      "                        \"3\": 0\n",
      "                    }\n",
      "                },\n",
      "                \"10\": {\n",
      "                    \"pclass\": {\n",
      "                        \"1\": 0,\n",
      "                        \"2\": 0,\n",
      "                        \"3\": 0\n",
      "                    }\n",
      "                },\n",
      "                \"20\": {\n",
      "                    \"pclass\": {\n",
      "                        \"1\": 0,\n",
      "                        \"2\": 0,\n",
      "                        \"3\": 0\n",
      "                    }\n",
      "                },\n",
      "                \"30\": {\n",
      "                    \"pclass\": {\n",
      "                        \"1\": 0,\n",
      "                        \"2\": 0,\n",
      "                        \"3\": 0\n",
      "                    }\n",
      "                },\n",
      "                \"40\": {\n",
      "                    \"pclass\": {\n",
      "                        \"1\": 0,\n",
      "                        \"2\": 0,\n",
      "                        \"3\": 0\n",
      "                    }\n",
      "                },\n",
      "                \"50\": {\n",
      "                    \"pclass\": {\n",
      "                        \"1\": 0,\n",
      "                        \"2\": 0,\n",
      "                        \"3\": 0\n",
      "                    }\n",
      "                },\n",
      "                \"60\": {\n",
      "                    \"pclass\": {\n",
      "                        \"1\": 0,\n",
      "                        \"2\": 0,\n",
      "                        \"3\": 0\n",
      "                    }\n",
      "                },\n",
      "                \"70\": 0,\n",
      "                \"80\": 1\n",
      "            }\n",
      "        }\n",
      "    }\n",
      "}\n"
     ]
    }
   ],
   "source": [
    "# YOUR SOLUTION HERE\n",
    "tree = make_tree(titanic_df.drop('survived',axis=1),titanic_df['survived'])\n",
    "display(tree)\n",
    "\n",
    "# if you want to print like me :)\n",
    "def print_for_me(tree):\n",
    "    import json\n",
    "    import copy\n",
    "    mytree = copy.deepcopy(tree)\n",
    "    def fix_keys(tree):\n",
    "        if type(tree) != dict:\n",
    "            if type(tree) == np.int64:\n",
    "                return int(tree)\n",
    "        new_tree = {}\n",
    "        for key in list(tree.keys()):\n",
    "            if type(key) == np.int64:\n",
    "                new_tree[int(key)] = tree[key]\n",
    "            else:\n",
    "                new_tree[key] = tree[key]\n",
    "        for key in new_tree.keys():\n",
    "            new_tree[key] = fix_keys(new_tree[key])\n",
    "        return new_tree\n",
    "    mytree = fix_keys(mytree)\n",
    "    print(json.dumps(mytree, indent=4, sort_keys=True))\n",
    "print_for_me(tree)"
   ]
  },
  {
   "cell_type": "markdown",
   "metadata": {},
   "source": [
    "## Exercise 6\n",
    "Modify your code above to deal with age as continuous column and include a new parameter to make tree that is the minimum number of samples required in order to consider splitting (default value should be 5). My solution was to redefine select_split to check the types. Pandas has a built in categorical object type, so it is wise to make use of it and modify our dataset as follows:"
   ]
  },
  {
   "cell_type": "code",
   "execution_count": 10,
   "metadata": {},
   "outputs": [
    {
     "data": {
      "text/plain": [
       "pclass       int64\n",
       "survived     int64\n",
       "sex         object\n",
       "age          int64\n",
       "dtype: object"
      ]
     },
     "execution_count": 10,
     "metadata": {},
     "output_type": "execute_result"
    }
   ],
   "source": [
    "titanic_df.dtypes"
   ]
  },
  {
   "cell_type": "code",
   "execution_count": 11,
   "metadata": {},
   "outputs": [
    {
     "data": {
      "text/plain": [
       "pclass      category\n",
       "survived    category\n",
       "sex         category\n",
       "age            int64\n",
       "dtype: object"
      ]
     },
     "execution_count": 11,
     "metadata": {},
     "output_type": "execute_result"
    }
   ],
   "source": [
    "titanic_df['pclass'] = titanic_df['pclass'].astype('category')\n",
    "titanic_df['survived'] = titanic_df['survived'].astype('category')\n",
    "titanic_df['sex'] = titanic_df['sex'].astype('category')\n",
    "titanic_df.dtypes"
   ]
  },
  {
   "cell_type": "code",
   "execution_count": 12,
   "metadata": {},
   "outputs": [
    {
     "data": {
      "text/plain": [
       "{'sex': {'female': {'pclass': {1: {'age<5.00': {'True': 0, 'False': 1}},\n",
       "    2: {'age<55.00': {'True': 1, 'False': 0}},\n",
       "    3: {'age<25.00': {'True': 1, 'False': 0}}}},\n",
       "  'male': {'age<5.00': {'True': {'pclass': {1: 1, 2: 1, 3: 0}},\n",
       "    'False': {'pclass': {1: 0, 2: 0, 3: 0}}}}}}"
      ]
     },
     "metadata": {},
     "output_type": "display_data"
    },
    {
     "name": "stdout",
     "output_type": "stream",
     "text": [
      "{\n",
      "    \"sex\": {\n",
      "        \"female\": {\n",
      "            \"pclass\": {\n",
      "                \"1\": {\n",
      "                    \"age<5.00\": {\n",
      "                        \"False\": 1,\n",
      "                        \"True\": 0\n",
      "                    }\n",
      "                },\n",
      "                \"2\": {\n",
      "                    \"age<55.00\": {\n",
      "                        \"False\": 0,\n",
      "                        \"True\": 1\n",
      "                    }\n",
      "                },\n",
      "                \"3\": {\n",
      "                    \"age<25.00\": {\n",
      "                        \"False\": 0,\n",
      "                        \"True\": 1\n",
      "                    }\n",
      "                }\n",
      "            }\n",
      "        },\n",
      "        \"male\": {\n",
      "            \"age<5.00\": {\n",
      "                \"False\": {\n",
      "                    \"pclass\": {\n",
      "                        \"1\": 0,\n",
      "                        \"2\": 0,\n",
      "                        \"3\": 0\n",
      "                    }\n",
      "                },\n",
      "                \"True\": {\n",
      "                    \"pclass\": {\n",
      "                        \"1\": 1,\n",
      "                        \"2\": 1,\n",
      "                        \"3\": 0\n",
      "                    }\n",
      "                }\n",
      "            }\n",
      "        }\n",
      "    }\n",
      "}\n"
     ]
    }
   ],
   "source": [
    "# YOUR SOLUTION HERE\n",
    "tree = make_tree(titanic_df.drop('survived',axis=1),titanic_df['survived'])\n",
    "display(tree)\n",
    "\n",
    "# if you want to print like me :)\n",
    "def print_for_me(tree):\n",
    "    import json\n",
    "    import copy\n",
    "    mytree = copy.deepcopy(tree)\n",
    "    def fix_keys(tree):\n",
    "        if type(tree) != dict:\n",
    "            if type(tree) == np.int64:\n",
    "                return int(tree)\n",
    "            else:\n",
    "                return tree\n",
    "        new_tree = {}\n",
    "        for key in list(tree.keys()):\n",
    "            if type(key) == np.int64:\n",
    "                new_tree[int(key)] = tree[key]\n",
    "            else:\n",
    "                new_tree[key] = tree[key]\n",
    "        for key in new_tree.keys():\n",
    "            new_tree[key] = fix_keys(new_tree[key])\n",
    "        return new_tree\n",
    "    mytree = fix_keys(mytree)\n",
    "    print(json.dumps(mytree, indent=4, sort_keys=True))\n",
    "print_for_me(tree)"
   ]
  },
  {
   "cell_type": "markdown",
   "metadata": {},
   "source": [
    "## Exercise 7\n",
    "Now implement a version of pruning that uses confidence intervals of the accuracy. First, let's calculate the 90% (z=1.64) confidence intervals for a node:\n",
    "<pre>\n",
    "def confidence_interval(y):\n",
    "    ???\n",
    "    return lower,upper\n",
    "</pre>\n",
    "\n",
    "Here is the formula I want you to use:\n",
    "<pre>\n",
    "c.i. = f +- z*sqrt( f*(1-f) / N )\n",
    "</pre>\n",
    "where f is the fraction of errors (1-accuracy) and N is the number of samples."
   ]
  },
  {
   "cell_type": "code",
   "execution_count": 13,
   "metadata": {},
   "outputs": [
    {
     "data": {
      "text/plain": [
       "(0.35994709988642265, 0.40399484052610607)"
      ]
     },
     "metadata": {},
     "output_type": "display_data"
    },
    {
     "data": {
      "text/plain": [
       "(0.16523640181963234, 0.8347635981803676)"
      ]
     },
     "metadata": {},
     "output_type": "display_data"
    },
    {
     "data": {
      "text/plain": [
       "(0.0, 0.0)"
      ]
     },
     "metadata": {},
     "output_type": "display_data"
    }
   ],
   "source": [
    "# YOUR SOLUTION HERE\n",
    "display(confidence_interval(titanic_df['survived']))\n",
    "display(confidence_interval(pd.Series([0,0,0,1,1,1])))\n",
    "display(confidence_interval(pd.Series([0,0,0])))"
   ]
  },
  {
   "cell_type": "markdown",
   "metadata": {},
   "source": [
    "## Excercises 8\n",
    "Now calculate the conditional confidence interval (very similar in structure to conditional entropy).\n",
    "\n",
    "<pre>\n",
    "def conditional_confidence_interval(preconditions,X,y):\n",
    "    ???\n",
    "    return lower,upper,ypred\n",
    "</pre>"
   ]
  },
  {
   "cell_type": "code",
   "execution_count": 14,
   "metadata": {},
   "outputs": [
    {
     "data": {
      "text/plain": [
       "(0.10188940536593324, 0.1905082554527803, 0)"
      ]
     },
     "metadata": {},
     "output_type": "display_data"
    }
   ],
   "source": [
    "# YOUR SOLUTION HERE\n",
    "display(conditional_confidence_interval([('sex', 'male'), ('age<75.00', 'True'), ('pclass', 2)],\n",
    "                                        titanic_df.drop('survived',axis=1),titanic_df['survived']))\n"
   ]
  },
  {
   "cell_type": "markdown",
   "metadata": {},
   "source": [
    "## Excercises 9\n",
    "Now we can put together a pruning algorithm. Please implement statistical pruning, but here a short description of reduced-error pruning as well. Original source of some text: [http://www.cs.bc.edu/~alvarez/ML/statPruning.html](http://www.cs.bc.edu/~alvarez/ML/statPruning.html)\n",
    "\n",
    "**Reduced-Error Pruning**: One approach to pruning is to withhold a portion of the available labeled data for validation. The validation set is not used during training. Once training has been completed, testing is carried out over the validation set. If the error rate of the original decision tree over the validation set exceeds the error rate of a pruned version of the tree (obtained by replacing a near-leaf node with its child leaves by a single leaf node), then the pruning operation is carried out. Reduced error pruning can reduce overfitting, but it also reduces the amount of data available for training.\n",
    "\n",
    "**Statistical Pruning**: C4.5 uses a pruning technique based on statistical confidence estimates. This technique has the advantage that it allows all of the available labeled data to be used for training.\n",
    "\n",
    "The heart of the statistical pruning technique is the calculation of a confidence interval for the error rate. In brief, one starts from an observed error rate f measured over the set of N training instances. In order to decide whether to replace a near-leaf node and its child leaves by a single leaf node, C4.5 compares the upper limits of the error confidence intervals for the two trees. For the unpruned tree, the upper error estimate is calculated as a weighted average over its child leaves (what you implemented above). Whichever tree has a lower estimated upper limit on the error rate \"wins\" and is selected.\n",
    "\n",
    "<pre>\n",
    "def generate_rules(tree):\n",
    "   ???\n",
    "   \n",
    "def prune_rules(rules,X,y):\n",
    "   return new_rules # (sorted by accuracy)\n",
    "</pre>"
   ]
  },
  {
   "cell_type": "code",
   "execution_count": 15,
   "metadata": {},
   "outputs": [
    {
     "name": "stdout",
     "output_type": "stream",
     "text": [
      "Original rules:\n",
      "[('sex', 'female'), ('pclass', 1), ('age<5.00', 'True'), 0]\n",
      "[('sex', 'female'), ('pclass', 1), ('age<5.00', 'False'), 1]\n",
      "[('sex', 'female'), ('pclass', 2), ('age<55.00', 'True'), 1]\n",
      "[('sex', 'female'), ('pclass', 2), ('age<55.00', 'False'), 0]\n",
      "[('sex', 'female'), ('pclass', 3), ('age<25.00', 'True'), 1]\n",
      "[('sex', 'female'), ('pclass', 3), ('age<25.00', 'False'), 0]\n",
      "[('sex', 'male'), ('age<5.00', 'True'), ('pclass', 1), 1]\n",
      "[('sex', 'male'), ('age<5.00', 'True'), ('pclass', 2), 1]\n",
      "[('sex', 'male'), ('age<5.00', 'True'), ('pclass', 3), 0]\n",
      "[('sex', 'male'), ('age<5.00', 'False'), ('pclass', 1), 0]\n",
      "[('sex', 'male'), ('age<5.00', 'False'), ('pclass', 2), 0]\n",
      "[('sex', 'male'), ('age<5.00', 'False'), ('pclass', 3), 0]\n",
      "Pruned from [('sex', 'female') ('pclass', 3) ('age<25.00', 'True')]\n",
      "To [('sex', 'female') ('pclass', 3)]\n",
      "upper_pruned 0.5465251060895124\n",
      "upper 0.5474860837814073\n",
      "Pruned from [('sex', 'female') ('pclass', 3)]\n",
      "To [('sex', 'female')]\n",
      "upper_pruned 0.3063594380245347\n",
      "upper 0.5465251060895124\n",
      "Pruned from [('sex', 'female') ('pclass', 3) ('age<25.00', 'False')]\n",
      "To [('sex', 'female') ('age<25.00', 'False')]\n",
      "upper_pruned 0.2374035721061031\n",
      "upper 0.5123763509244009\n",
      "Pruned from [('sex', 'male') ('age<5.00', 'True') ('pclass', 3)]\n",
      "To [('sex', 'male') ('pclass', 3)]\n",
      "upper_pruned 0.1786570681404531\n",
      "upper 0.5270780219413799\n",
      "Pruned from [('sex', 'male') ('age<5.00', 'False') ('pclass', 1)]\n",
      "To [('sex', 'male') ('age<5.00', 'False')]\n",
      "upper_pruned 0.19178022497588126\n",
      "upper 0.3876526409087811\n",
      "I return a dataframe so I can sort the values\n",
      "                                                 rule     upper\n",
      "0   [(sex, female), (pclass, 1), (age<5.00, True), 0]  0.000000\n",
      "1   [(sex, female), (pclass, 1), (age<5.00, False)...  0.050586\n",
      "2   [(sex, female), (pclass, 2), (age<55.00, True)...  0.153776\n",
      "3   [(sex, female), (pclass, 2), (age<55.00, False...  0.000000\n",
      "4                                  [(sex, female), 1]  0.306359\n",
      "5              [(sex, female), (age<25.00, False), 1]  0.237404\n",
      "6     [(sex, male), (age<5.00, True), (pclass, 1), 1]  0.000000\n",
      "7     [(sex, male), (age<5.00, True), (pclass, 2), 1]  0.000000\n",
      "8                       [(sex, male), (pclass, 3), 0]  0.178657\n",
      "9                 [(sex, male), (age<5.00, False), 0]  0.191780\n",
      "10   [(sex, male), (age<5.00, False), (pclass, 2), 0]  0.124136\n",
      "11   [(sex, male), (age<5.00, False), (pclass, 3), 0]  0.164185\n",
      "Here they are sorted\n",
      "                                                 rule     upper\n",
      "0   [(sex, female), (pclass, 1), (age<5.00, True), 0]  0.000000\n",
      "3   [(sex, female), (pclass, 2), (age<55.00, False...  0.000000\n",
      "6     [(sex, male), (age<5.00, True), (pclass, 1), 1]  0.000000\n",
      "7     [(sex, male), (age<5.00, True), (pclass, 2), 1]  0.000000\n",
      "1   [(sex, female), (pclass, 1), (age<5.00, False)...  0.050586\n",
      "10   [(sex, male), (age<5.00, False), (pclass, 2), 0]  0.124136\n",
      "2   [(sex, female), (pclass, 2), (age<55.00, True)...  0.153776\n",
      "11   [(sex, male), (age<5.00, False), (pclass, 3), 0]  0.164185\n",
      "8                       [(sex, male), (pclass, 3), 0]  0.178657\n",
      "9                 [(sex, male), (age<5.00, False), 0]  0.191780\n",
      "5              [(sex, female), (age<25.00, False), 1]  0.237404\n",
      "4                                  [(sex, female), 1]  0.306359\n",
      "Now put them back into a list in this correct order\n",
      "[('sex', 'female'), ('pclass', 1), ('age<5.00', 'True'), 0]\n",
      "[('sex', 'female'), ('pclass', 2), ('age<55.00', 'False'), 0]\n",
      "[('sex', 'male'), ('age<5.00', 'True'), ('pclass', 1), 1]\n",
      "[('sex', 'male'), ('age<5.00', 'True'), ('pclass', 2), 1]\n",
      "[('sex', 'female'), ('pclass', 1), ('age<5.00', 'False'), 1]\n",
      "[('sex', 'male'), ('age<5.00', 'False'), ('pclass', 2), 0]\n",
      "[('sex', 'female'), ('pclass', 2), ('age<55.00', 'True'), 1]\n",
      "[('sex', 'male'), ('age<5.00', 'False'), ('pclass', 3), 0]\n",
      "[('sex', 'male'), ('pclass', 3), 0]\n",
      "[('sex', 'male'), ('age<5.00', 'False'), 0]\n",
      "[('sex', 'female'), ('age<25.00', 'False'), 1]\n",
      "[('sex', 'female'), 1]\n"
     ]
    }
   ],
   "source": [
    "# YOUR SOLUTION HERE\n",
    "tree = make_tree(titanic_df.drop('survived',axis=1),titanic_df['survived'])\n",
    "rules = generate_rules(tree)\n",
    "print('Original rules:')\n",
    "for rule in rules:\n",
    "    print(rule)\n",
    "    \n",
    "new_rules = prune_rules(rules,titanic_df.drop('survived',axis=1),titanic_df['survived'],debug=True)\n",
    "print('I return a dataframe so I can sort the values')\n",
    "print(new_rules)\n",
    "print('Here they are sorted')\n",
    "print(new_rules.sort_values(by='upper'))\n",
    "print('Now put them back into a list in this correct order')\n",
    "new_rules = new_rules.sort_values(by='upper')['rule'].tolist()\n",
    "for rule in new_rules:\n",
    "    print(rule)"
   ]
  },
  {
   "cell_type": "markdown",
   "metadata": {},
   "source": [
    "# Exercise 10\n",
    "Now let's run our algorithm on our activity dataset. What is the resulting tree before and after pruning? Was anything pruned? What are the rules after pruning?"
   ]
  },
  {
   "cell_type": "code",
   "execution_count": 50,
   "metadata": {},
   "outputs": [
    {
     "name": "stdout",
     "output_type": "stream",
     "text": [
      "{\n",
      "    \"party\": {\n",
      "        \"No\": {\n",
      "            \"deadline\": {\n",
      "                \"None\": \"TV\",\n",
      "                \"Soon\": {\n",
      "                    \"age<21.50\": {\n",
      "                        \"False\": \"TV\",\n",
      "                        \"True\": {\n",
      "                            \"lazy\": {\n",
      "                                \"No\": \"Study\",\n",
      "                                \"Yes\": \"TV\"\n",
      "                            }\n",
      "                        }\n",
      "                    }\n",
      "                },\n",
      "                \"Urgent\": \"Study\"\n",
      "            }\n",
      "        },\n",
      "        \"Yes\": {\n",
      "            \"deadline\": {\n",
      "                \"None\": \"Party\",\n",
      "                \"Soon\": {\n",
      "                    \"age<21.50\": {\n",
      "                        \"False\": \"Bar\",\n",
      "                        \"True\": {\n",
      "                            \"lazy\": {\n",
      "                                \"No\": \"Party\",\n",
      "                                \"Yes\": \"Party\"\n",
      "                            }\n",
      "                        }\n",
      "                    }\n",
      "                },\n",
      "                \"Urgent\": {\n",
      "                    \"age<21.50\": {\n",
      "                        \"False\": \"TV\",\n",
      "                        \"True\": \"Study\"\n",
      "                    }\n",
      "                }\n",
      "            }\n",
      "        }\n",
      "    }\n",
      "}\n",
      "Original rules:\n",
      "[('party', 'Yes'), ('deadline', 'Soon'), ('age<21.50', 'True'), ('lazy', 'Yes'), 'Party']\n",
      "[('party', 'Yes'), ('deadline', 'Soon'), ('age<21.50', 'True'), ('lazy', 'No'), 'Party']\n",
      "[('party', 'Yes'), ('deadline', 'Soon'), ('age<21.50', 'False'), 'Bar']\n",
      "[('party', 'Yes'), ('deadline', 'None'), 'Party']\n",
      "[('party', 'Yes'), ('deadline', 'Urgent'), ('age<21.50', 'True'), 'Study']\n",
      "[('party', 'Yes'), ('deadline', 'Urgent'), ('age<21.50', 'False'), 'TV']\n",
      "[('party', 'No'), ('deadline', 'Soon'), ('age<21.50', 'True'), ('lazy', 'Yes'), 'TV']\n",
      "[('party', 'No'), ('deadline', 'Soon'), ('age<21.50', 'True'), ('lazy', 'No'), 'Study']\n",
      "[('party', 'No'), ('deadline', 'Soon'), ('age<21.50', 'False'), 'TV']\n",
      "[('party', 'No'), ('deadline', 'Urgent'), 'Study']\n",
      "[('party', 'No'), ('deadline', 'None'), 'TV']\n",
      "I return a dataframe so I can sort the values\n",
      "                                                 rule     upper\n",
      "0   [(party, Yes), (deadline, Soon), (age<21.50, T...  0.000000\n",
      "1   [(party, Yes), (deadline, Soon), (age<21.50, T...  0.359764\n",
      "2             [(party, Yes), (deadline, Soon), Party]  0.537659\n",
      "3             [(party, Yes), (deadline, None), Party]  0.605070\n",
      "4            [(party, Yes), (age<21.50, True), Party]  0.532948\n",
      "5   [(party, Yes), (deadline, Urgent), (age<21.50,...  0.000000\n",
      "6                      [(party, No), (lazy, Yes), TV]  0.543024\n",
      "7                 [(party, No), (deadline, Soon), TV]  0.636524\n",
      "8   [(party, No), (deadline, Soon), (age<21.50, Fa...  0.605070\n",
      "9            [(party, No), (deadline, Urgent), Study]  0.000000\n",
      "10                [(party, No), (deadline, None), TV]  0.000000\n",
      "Here they are sorted\n",
      "                                                 rule     upper\n",
      "0   [(party, Yes), (deadline, Soon), (age<21.50, T...  0.000000\n",
      "5   [(party, Yes), (deadline, Urgent), (age<21.50,...  0.000000\n",
      "9            [(party, No), (deadline, Urgent), Study]  0.000000\n",
      "10                [(party, No), (deadline, None), TV]  0.000000\n",
      "1   [(party, Yes), (deadline, Soon), (age<21.50, T...  0.359764\n",
      "4            [(party, Yes), (age<21.50, True), Party]  0.532948\n",
      "2             [(party, Yes), (deadline, Soon), Party]  0.537659\n",
      "6                      [(party, No), (lazy, Yes), TV]  0.543024\n",
      "3             [(party, Yes), (deadline, None), Party]  0.605070\n",
      "8   [(party, No), (deadline, Soon), (age<21.50, Fa...  0.605070\n",
      "7                 [(party, No), (deadline, Soon), TV]  0.636524\n",
      "Now put them back into a list in this correct order\n",
      "[('party', 'Yes'), ('deadline', 'Soon'), ('age<21.50', 'True'), ('lazy', 'Yes'), 'Party']\n",
      "[('party', 'Yes'), ('deadline', 'Urgent'), ('age<21.50', 'False'), 'TV']\n",
      "[('party', 'No'), ('deadline', 'Urgent'), 'Study']\n",
      "[('party', 'No'), ('deadline', 'None'), 'TV']\n",
      "[('party', 'Yes'), ('deadline', 'Soon'), ('age<21.50', 'True'), 'Party']\n",
      "[('party', 'Yes'), ('age<21.50', 'True'), 'Party']\n",
      "[('party', 'Yes'), ('deadline', 'Soon'), 'Party']\n",
      "[('party', 'No'), ('lazy', 'Yes'), 'TV']\n",
      "[('party', 'Yes'), ('deadline', 'None'), 'Party']\n",
      "[('party', 'No'), ('deadline', 'Soon'), ('age<21.50', 'False'), 'TV']\n",
      "[('party', 'No'), ('deadline', 'Soon'), 'TV']\n"
     ]
    }
   ],
   "source": [
    "# YOUR SOLUTION HERE"
   ]
  },
  {
   "cell_type": "markdown",
   "metadata": {},
   "source": [
    "## Exercise 11\n",
    "Considering the titanic dataset, what is the most important feature? How does the test set accuracy compare to the accuracy using naive Bayes from last lab? Does pruning help this accuracy?\n",
    "\n",
    "HINT: It makes sense to run the combination of train+test at least 20 times to make sure we aren't just getting lucky with a single run. "
   ]
  },
  {
   "cell_type": "code",
   "execution_count": 51,
   "metadata": {},
   "outputs": [
    {
     "name": "stdout",
     "output_type": "stream",
     "text": [
      "Unpruned mean accuracy over 20 runs 0.7799618320610688\n",
      "Pruned mean accuracy over 20 runs 0.7811068702290077\n"
     ]
    }
   ],
   "source": [
    "# YOUR SOLUTION HERE\n",
    "\n"
   ]
  },
  {
   "cell_type": "markdown",
   "metadata": {},
   "source": [
    "## Exercise 12\n",
    "So pruned helps somewhat in this example, but we are mostly saved the need to pruning because we are only considering three variables and we are only considering age once in the tree. Not much chance of overfitting. What happens if we include the additional columns of fare, embarked, cabin, home.dest, parch, and sibsp?\n",
    "\n",
    "HINT: It makes sense to run the combination of train+test at least 20 times to make sure we aren't just getting lucky with a single run. "
   ]
  },
  {
   "cell_type": "code",
   "execution_count": 52,
   "metadata": {},
   "outputs": [
    {
     "data": {
      "text/plain": [
       "pclass       category\n",
       "survived     category\n",
       "sex          category\n",
       "age           float64\n",
       "fare          float64\n",
       "embarked     category\n",
       "cabin        category\n",
       "home.dest    category\n",
       "parch        category\n",
       "sibsp        category\n",
       "dtype: object"
      ]
     },
     "metadata": {},
     "output_type": "display_data"
    },
    {
     "data": {
      "text/html": [
       "<div>\n",
       "<style scoped>\n",
       "    .dataframe tbody tr th:only-of-type {\n",
       "        vertical-align: middle;\n",
       "    }\n",
       "\n",
       "    .dataframe tbody tr th {\n",
       "        vertical-align: top;\n",
       "    }\n",
       "\n",
       "    .dataframe thead th {\n",
       "        text-align: right;\n",
       "    }\n",
       "</style>\n",
       "<table border=\"1\" class=\"dataframe\">\n",
       "  <thead>\n",
       "    <tr style=\"text-align: right;\">\n",
       "      <th></th>\n",
       "      <th>pclass</th>\n",
       "      <th>survived</th>\n",
       "      <th>sex</th>\n",
       "      <th>age</th>\n",
       "      <th>fare</th>\n",
       "      <th>embarked</th>\n",
       "      <th>cabin</th>\n",
       "      <th>home.dest</th>\n",
       "      <th>parch</th>\n",
       "      <th>sibsp</th>\n",
       "    </tr>\n",
       "  </thead>\n",
       "  <tbody>\n",
       "    <tr>\n",
       "      <td>0</td>\n",
       "      <td>1</td>\n",
       "      <td>1</td>\n",
       "      <td>female</td>\n",
       "      <td>29.0000</td>\n",
       "      <td>211.3375</td>\n",
       "      <td>S</td>\n",
       "      <td>B5</td>\n",
       "      <td>St Louis, MO</td>\n",
       "      <td>0</td>\n",
       "      <td>0</td>\n",
       "    </tr>\n",
       "    <tr>\n",
       "      <td>1</td>\n",
       "      <td>1</td>\n",
       "      <td>1</td>\n",
       "      <td>male</td>\n",
       "      <td>0.9167</td>\n",
       "      <td>151.5500</td>\n",
       "      <td>S</td>\n",
       "      <td>C22 C26</td>\n",
       "      <td>Montreal, PQ / Chesterville, ON</td>\n",
       "      <td>2</td>\n",
       "      <td>1</td>\n",
       "    </tr>\n",
       "    <tr>\n",
       "      <td>2</td>\n",
       "      <td>1</td>\n",
       "      <td>0</td>\n",
       "      <td>female</td>\n",
       "      <td>2.0000</td>\n",
       "      <td>151.5500</td>\n",
       "      <td>S</td>\n",
       "      <td>C22 C26</td>\n",
       "      <td>Montreal, PQ / Chesterville, ON</td>\n",
       "      <td>2</td>\n",
       "      <td>1</td>\n",
       "    </tr>\n",
       "    <tr>\n",
       "      <td>3</td>\n",
       "      <td>1</td>\n",
       "      <td>0</td>\n",
       "      <td>male</td>\n",
       "      <td>30.0000</td>\n",
       "      <td>151.5500</td>\n",
       "      <td>S</td>\n",
       "      <td>C22 C26</td>\n",
       "      <td>Montreal, PQ / Chesterville, ON</td>\n",
       "      <td>2</td>\n",
       "      <td>1</td>\n",
       "    </tr>\n",
       "    <tr>\n",
       "      <td>4</td>\n",
       "      <td>1</td>\n",
       "      <td>0</td>\n",
       "      <td>female</td>\n",
       "      <td>25.0000</td>\n",
       "      <td>151.5500</td>\n",
       "      <td>S</td>\n",
       "      <td>C22 C26</td>\n",
       "      <td>Montreal, PQ / Chesterville, ON</td>\n",
       "      <td>2</td>\n",
       "      <td>1</td>\n",
       "    </tr>\n",
       "    <tr>\n",
       "      <td>...</td>\n",
       "      <td>...</td>\n",
       "      <td>...</td>\n",
       "      <td>...</td>\n",
       "      <td>...</td>\n",
       "      <td>...</td>\n",
       "      <td>...</td>\n",
       "      <td>...</td>\n",
       "      <td>...</td>\n",
       "      <td>...</td>\n",
       "      <td>...</td>\n",
       "    </tr>\n",
       "    <tr>\n",
       "      <td>1304</td>\n",
       "      <td>3</td>\n",
       "      <td>0</td>\n",
       "      <td>female</td>\n",
       "      <td>14.5000</td>\n",
       "      <td>14.4542</td>\n",
       "      <td>C</td>\n",
       "      <td>C23 C25 C27</td>\n",
       "      <td>New York, NY</td>\n",
       "      <td>0</td>\n",
       "      <td>1</td>\n",
       "    </tr>\n",
       "    <tr>\n",
       "      <td>1305</td>\n",
       "      <td>3</td>\n",
       "      <td>0</td>\n",
       "      <td>female</td>\n",
       "      <td>28.0000</td>\n",
       "      <td>14.4542</td>\n",
       "      <td>C</td>\n",
       "      <td>C23 C25 C27</td>\n",
       "      <td>New York, NY</td>\n",
       "      <td>0</td>\n",
       "      <td>1</td>\n",
       "    </tr>\n",
       "    <tr>\n",
       "      <td>1306</td>\n",
       "      <td>3</td>\n",
       "      <td>0</td>\n",
       "      <td>male</td>\n",
       "      <td>26.5000</td>\n",
       "      <td>7.2250</td>\n",
       "      <td>C</td>\n",
       "      <td>C23 C25 C27</td>\n",
       "      <td>New York, NY</td>\n",
       "      <td>0</td>\n",
       "      <td>0</td>\n",
       "    </tr>\n",
       "    <tr>\n",
       "      <td>1307</td>\n",
       "      <td>3</td>\n",
       "      <td>0</td>\n",
       "      <td>male</td>\n",
       "      <td>27.0000</td>\n",
       "      <td>7.2250</td>\n",
       "      <td>C</td>\n",
       "      <td>C23 C25 C27</td>\n",
       "      <td>New York, NY</td>\n",
       "      <td>0</td>\n",
       "      <td>0</td>\n",
       "    </tr>\n",
       "    <tr>\n",
       "      <td>1308</td>\n",
       "      <td>3</td>\n",
       "      <td>0</td>\n",
       "      <td>male</td>\n",
       "      <td>29.0000</td>\n",
       "      <td>7.8750</td>\n",
       "      <td>S</td>\n",
       "      <td>C23 C25 C27</td>\n",
       "      <td>New York, NY</td>\n",
       "      <td>0</td>\n",
       "      <td>0</td>\n",
       "    </tr>\n",
       "  </tbody>\n",
       "</table>\n",
       "<p>1309 rows × 10 columns</p>\n",
       "</div>"
      ],
      "text/plain": [
       "     pclass survived     sex      age      fare embarked        cabin  \\\n",
       "0         1        1  female  29.0000  211.3375        S           B5   \n",
       "1         1        1    male   0.9167  151.5500        S      C22 C26   \n",
       "2         1        0  female   2.0000  151.5500        S      C22 C26   \n",
       "3         1        0    male  30.0000  151.5500        S      C22 C26   \n",
       "4         1        0  female  25.0000  151.5500        S      C22 C26   \n",
       "...     ...      ...     ...      ...       ...      ...          ...   \n",
       "1304      3        0  female  14.5000   14.4542        C  C23 C25 C27   \n",
       "1305      3        0  female  28.0000   14.4542        C  C23 C25 C27   \n",
       "1306      3        0    male  26.5000    7.2250        C  C23 C25 C27   \n",
       "1307      3        0    male  27.0000    7.2250        C  C23 C25 C27   \n",
       "1308      3        0    male  29.0000    7.8750        S  C23 C25 C27   \n",
       "\n",
       "                            home.dest parch sibsp  \n",
       "0                        St Louis, MO     0     0  \n",
       "1     Montreal, PQ / Chesterville, ON     2     1  \n",
       "2     Montreal, PQ / Chesterville, ON     2     1  \n",
       "3     Montreal, PQ / Chesterville, ON     2     1  \n",
       "4     Montreal, PQ / Chesterville, ON     2     1  \n",
       "...                               ...   ...   ...  \n",
       "1304                     New York, NY     0     1  \n",
       "1305                     New York, NY     0     1  \n",
       "1306                     New York, NY     0     0  \n",
       "1307                     New York, NY     0     0  \n",
       "1308                     New York, NY     0     0  \n",
       "\n",
       "[1309 rows x 10 columns]"
      ]
     },
     "metadata": {},
     "output_type": "display_data"
    }
   ],
   "source": [
    "import pandas as pd\n",
    "titanic_df = pd.read_csv(\n",
    "    \"https://raw.githubusercontent.com/dlsun/data-science-book/master/data/titanic.csv\"\n",
    ")\n",
    "titanic_df.head()\n",
    "features = ['pclass','survived','sex','age','fare','embarked','cabin','home.dest','parch','sibsp']\n",
    "titanic_df = titanic_df.loc[:,features]\n",
    "titanic_df.loc[:,'survived']=titanic_df['survived'].astype('category')\n",
    "titanic_df.loc[:,'pclass']=titanic_df['pclass'].fillna(titanic_df['pclass'].mode().values[0]).astype('category')\n",
    "titanic_df.loc[:,'age']=titanic_df['age'].fillna(titanic_df['age'].median())\n",
    "titanic_df.loc[:,'fare']=titanic_df['fare'].fillna(titanic_df['fare'].median())\n",
    "titanic_df.loc[:,'embarked']=titanic_df['embarked'].fillna(titanic_df['embarked'].mode().values[0]).astype('category')\n",
    "titanic_df.loc[:,'cabin']=titanic_df['cabin'].fillna(titanic_df['cabin'].mode().values[0]).astype('category')\n",
    "titanic_df.loc[:,'home.dest']=titanic_df['home.dest'].fillna(titanic_df['home.dest'].mode().values[0]).astype('category')\n",
    "titanic_df.loc[:,'parch']=titanic_df['parch'].fillna(titanic_df['parch'].mode().values[0]).astype('category')\n",
    "titanic_df.loc[:,'sibsp']=titanic_df['sibsp'].fillna(titanic_df['sibsp'].mode().values[0]).astype('category')\n",
    "titanic_df.loc[:,'sex']=titanic_df['sex'].fillna(titanic_df['sex'].mode().values[0]).astype('category')\n",
    "display(titanic_df.dtypes)\n",
    "display(titanic_df)"
   ]
  },
  {
   "cell_type": "code",
   "execution_count": 53,
   "metadata": {},
   "outputs": [
    {
     "name": "stdout",
     "output_type": "stream",
     "text": [
      "Unpruned mean accuracy over 20 runs 0.709351145038168\n",
      "Pruned mean accuracy over 20 runs 0.7032442748091603\n"
     ]
    }
   ],
   "source": [
    "# YOUR SOLUTION HERE\n"
   ]
  },
  {
   "cell_type": "markdown",
   "metadata": {},
   "source": [
    "## Exercise 13\n",
    "\n",
    "What modifications can you make to the pruning algorithm such that it trims more often? Did this improve the results?"
   ]
  },
  {
   "cell_type": "code",
   "execution_count": 50,
   "metadata": {},
   "outputs": [
    {
     "name": "stdout",
     "output_type": "stream",
     "text": [
      "No exact solution here. Make a reasonable modification to increase pruning and then summarize the results of using it.\n"
     ]
    }
   ],
   "source": [
    "# YOUR SOLUTION HERE"
   ]
  },
  {
   "cell_type": "markdown",
   "metadata": {},
   "source": [
    "## Exercise 14\n",
    "\n",
    "For your final exercise, I would like you to write and apply two functions to both the activity dataset and the titanic dataset. Try to create a nice output in a table format that summarizes how each of the three scores vary for each dataset and for each possible value of pos_label.\n",
    "\n",
    "<pre>\n",
    "def precision(y,ypred,pos_label):\n",
    "   ???\n",
    "   return p\n",
    "   \n",
    "def recall(y,ypred,pos_label):\n",
    "   ???\n",
    "   return r\n",
    "   \n",
    "def f1(y,ypred,pos_label):\n",
    "   ???\n",
    "   return f\n",
    "</pre>"
   ]
  },
  {
   "cell_type": "code",
   "execution_count": 104,
   "metadata": {},
   "outputs": [
    {
     "name": "stdout",
     "output_type": "stream",
     "text": [
      "Precision 0.544\n",
      "Recall 0.5\n",
      "f1 0.521072796934866\n"
     ]
    }
   ],
   "source": [
    "# YOUR SOLUTION HERE\n",
    "np.random.seed(101)\n",
    "X = titanic_df.drop('survived',axis=1)\n",
    "y = titanic_df['survived'].astype(str)\n",
    "predictions = X.apply(lambda x: np.random.choice(['0','1']),axis=1)\n",
    "print('Precision',precision(predictions,y,'1'))\n",
    "print('Recall',recall(predictions,y,'1'))\n",
    "print('f1',f1(predictions,y,'1'))"
   ]
  }
 ],
 "metadata": {
  "jupytext": {
   "formats": "ipynb,md"
  },
  "kernelspec": {
   "display_name": "Python 3",
   "language": "python",
   "name": "python3"
  },
  "language_info": {
   "codemirror_mode": {
    "name": "ipython",
    "version": 3
   },
   "file_extension": ".py",
   "mimetype": "text/x-python",
   "name": "python",
   "nbconvert_exporter": "python",
   "pygments_lexer": "ipython3",
   "version": "3.7.3"
  }
 },
 "nbformat": 4,
 "nbformat_minor": 4
}
